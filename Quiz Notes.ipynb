{
 "cells": [
  {
   "cell_type": "code",
   "execution_count": 69,
   "id": "a0935422",
   "metadata": {},
   "outputs": [],
   "source": [
    "import numpy as np\n",
    "import pandas as pd\n",
    "import matplotlib.pyplot as plt\n",
    "from env import host, user, password\n",
    "\n",
    "import seaborn as sns\n",
    "from pydataset import data"
   ]
  },
  {
   "cell_type": "markdown",
   "id": "3dc25e40",
   "metadata": {},
   "source": [
    "<center><h1>Table of Contents</h1></center>\n",
    "\n",
    "- <a href='#PS'>Pandas Series</a>\n",
    "    - <a href='#howto'>How to Declare a Pandas Series</a>\n",
    "    - <a href='#VO'>Vectorized Operations</a>\n",
    "    - <a href='#series attributes'>Series Attributes</a>\n",
    "        - <a href='#sindex'>.index</a>\n",
    "        - <a href='#svalues'>.values</a>\n",
    "        - <a href='#sdtype'>.dtype</a>\n",
    "        - <a href='#sname'>.name</a>\n",
    "        - <a href='#sshape'>.shape</a>\n",
    "    - <a href='#seriesmethods'>Series Methods</a>\n",
    "        - <a href='#headtailsample'>.head() .tail() .sample() </a>\n",
    "        - <a href='#astype'>.astype()</a>\n",
    "        - <a href='#valuecounts'>.value_counts()</a>\n",
    "        - <a href='#describe'>.describe()</a>\n",
    "        - <a href='#nlargest'>.nlargest() .nsmallest()</a>\n",
    "        - <a href='#sortvaluesindex'>.sort_values() .sort_index()</a>\n",
    "        - <a href='#isin'>.isin()</a>\n",
    "        - <a href='#apply'>.apply()</a>\n",
    "        - <a href='#pdcut'>pd.cut()</a>\n",
    "    - <a href='#andor'>and/or statements</a>\n",
    "    - <a href='#str'>.str</a>\n",
    "        - <a href='#lower'>str.lower()</a>\n",
    "        - <a href='#replace'>str.replace()</a>\n",
    "        - <a href='#startswith'>str.startswith()</a>\n",
    "        - <a href='#contains'>.str.contains()</a>\n",
    "- <a href='#df'>Pandas Dataframes</a>\n",
    "    - <a href='#dfatrributes'>Dataframe Attributes</a>\n",
    "        - <a href='#dtypes'>dtypes</a>\n",
    "        - <a href='#shape'>shape</a>\n",
    "        - <a href='#columns'>columns</a>\n",
    "        - <a href='#dfindex'>index</a>\n",
    "    - <a href='#dfmethods'>Dataframe Methods</a>\n",
    "        - <a href='#dfdescribe'>.describe()</a>\n",
    "        - <a href='#dfinfo'>.info()</a>\n",
    "        - <a href='#dfhead'>.head()</a>\n",
    "        - <a href='#dfdrop'>.drop()</a>\n",
    "        - <a href='#dfsort'>.sort_values()</a>\n",
    "    - <a href='#newcol'>Create New Columns</a>\n",
    "        - <a href='#assign'>.assign()</a>\n",
    "    - <a href='#amc'>Accessing Multiple Columns</a>\n",
    "    - <a href='#agg'>Aggregating</a>\n",
    "    - <a href='#where'>np.where</a>\n",
    "   "
   ]
  },
  {
   "cell_type": "markdown",
   "id": "9c3a0a6a",
   "metadata": {},
   "source": [
    "<a id='PS'><center><h1>Pandas Series</h1></center></a>\n"
   ]
  },
  {
   "cell_type": "code",
   "execution_count": 157,
   "id": "5c2a78e1",
   "metadata": {},
   "outputs": [],
   "source": [
    "students = ['Sally', 'Jane', 'Suzie', 'Billy', 'Ada', 'John', 'Thomas',\n",
    "            'Marie', 'Albert', 'Richard', 'Isaac', 'Alan', 'Josh', 'Josh','Josh']"
   ]
  },
  {
   "cell_type": "code",
   "execution_count": 242,
   "id": "bf0ed4fb",
   "metadata": {},
   "outputs": [],
   "source": [
    "simple_ints = [1, 2, 3, 4, 5, 6, 7, 8, 9, 10]"
   ]
  },
  {
   "cell_type": "code",
   "execution_count": 79,
   "id": "e0403789",
   "metadata": {},
   "outputs": [],
   "source": [
    "simple_floats = [1.1, 2.2, 3.3, 4.4]"
   ]
  },
  {
   "cell_type": "code",
   "execution_count": 72,
   "id": "3985db52",
   "metadata": {},
   "outputs": [],
   "source": [
    "numbers =  ['$796,459.41', '$278.60', '$482,571.67',\\\n",
    "                     '$4,503,915.98', '$2,121,418.3', '$1,260,813.3',\\\n",
    "                     '$87,231.01', '$1,509,175.45', '$4,138,548.00', '$2,848,913.80',\\\n",
    "                     '$594,715.39', '$4,789,988.17', '$4,513,644.5', '$3,191,059.97',\\\n",
    "                     '$1,758,712.24', '$4,338,283.54', '$4,738,303.38', '$2,791,759.67',\\\n",
    "                     '$769,681.94', '$452,650.23']"
   ]
  },
  {
   "cell_type": "markdown",
   "id": "b84703ae",
   "metadata": {},
   "source": [
    "<a id='howto'><center><h1>How to Declare a Pandas Series</h1></center></a>"
   ]
  },
  {
   "cell_type": "code",
   "execution_count": 158,
   "id": "ee33db66",
   "metadata": {},
   "outputs": [],
   "source": [
    "students = pd.Series(students)"
   ]
  },
  {
   "cell_type": "code",
   "execution_count": 243,
   "id": "60e5d2fb",
   "metadata": {},
   "outputs": [],
   "source": [
    "simple_ints = pd.Series(simple_ints)"
   ]
  },
  {
   "cell_type": "code",
   "execution_count": 75,
   "id": "92ae99c5",
   "metadata": {},
   "outputs": [],
   "source": [
    "numbers = pd.Series(numbers)"
   ]
  },
  {
   "cell_type": "code",
   "execution_count": 80,
   "id": "66d0d083",
   "metadata": {},
   "outputs": [],
   "source": [
    "simple_floats = pd.Series(simple_floats)"
   ]
  },
  {
   "cell_type": "markdown",
   "id": "251172e9",
   "metadata": {},
   "source": [
    "<div class=\"alert alert-block alert-warning\">\n",
    "<b><h1>Type?</h1> You can use type() to let you know the type of any variable</b>"
   ]
  },
  {
   "cell_type": "code",
   "execution_count": 45,
   "id": "eb61b957",
   "metadata": {},
   "outputs": [
    {
     "data": {
      "text/plain": [
       "pandas.core.series.Series"
      ]
     },
     "execution_count": 45,
     "metadata": {},
     "output_type": "execute_result"
    }
   ],
   "source": [
    "type(numbers)"
   ]
  },
  {
   "cell_type": "markdown",
   "id": "2886b672",
   "metadata": {},
   "source": [
    "<a id='VO'><center><h1>Vectorized Operations</h1></center></a>"
   ]
  },
  {
   "cell_type": "code",
   "execution_count": 207,
   "id": "20145cab",
   "metadata": {
    "scrolled": true
   },
   "outputs": [
    {
     "data": {
      "text/plain": [
       "0       Sally Chavez\n",
       "1        Jane Chavez\n",
       "2       Suzie Chavez\n",
       "3       Billy Chavez\n",
       "4         Ada Chavez\n",
       "5        John Chavez\n",
       "6      Thomas Chavez\n",
       "7       Marie Chavez\n",
       "8      Albert Chavez\n",
       "9     Richard Chavez\n",
       "10      Isaac Chavez\n",
       "11       Alan Chavez\n",
       "12       Josh Chavez\n",
       "13       Josh Chavez\n",
       "14       Josh Chavez\n",
       "dtype: object"
      ]
     },
     "execution_count": 207,
     "metadata": {},
     "output_type": "execute_result"
    }
   ],
   "source": [
    "students + \" Chavez\""
   ]
  },
  {
   "cell_type": "code",
   "execution_count": 48,
   "id": "06710343",
   "metadata": {},
   "outputs": [
    {
     "data": {
      "text/plain": [
       "0     4\n",
       "1     5\n",
       "2     6\n",
       "3     7\n",
       "4     8\n",
       "5     9\n",
       "6    10\n",
       "7    11\n",
       "8    12\n",
       "9    13\n",
       "dtype: int64"
      ]
     },
     "execution_count": 48,
     "metadata": {},
     "output_type": "execute_result"
    }
   ],
   "source": [
    "simple_ints + 3"
   ]
  },
  {
   "cell_type": "code",
   "execution_count": 47,
   "id": "7ab2e861",
   "metadata": {},
   "outputs": [
    {
     "data": {
      "text/plain": [
       "0    False\n",
       "1    False\n",
       "2    False\n",
       "3     True\n",
       "4     True\n",
       "5     True\n",
       "6     True\n",
       "7     True\n",
       "8     True\n",
       "9     True\n",
       "dtype: bool"
      ]
     },
     "execution_count": 47,
     "metadata": {},
     "output_type": "execute_result"
    }
   ],
   "source": [
    "simple_ints > 3"
   ]
  },
  {
   "cell_type": "markdown",
   "id": "93c7fef5",
   "metadata": {},
   "source": [
    "<a id='series attributes'><center><h1>Series Attributes</h1></center></a>"
   ]
  },
  {
   "cell_type": "markdown",
   "id": "32492a6e",
   "metadata": {},
   "source": [
    "<a id='sindex'><h3>.index</h3></a>"
   ]
  },
  {
   "cell_type": "code",
   "execution_count": 334,
   "id": "ffcefc6a",
   "metadata": {},
   "outputs": [
    {
     "data": {
      "text/plain": [
       "RangeIndex(start=0, stop=20, step=1)"
      ]
     },
     "execution_count": 334,
     "metadata": {},
     "output_type": "execute_result"
    }
   ],
   "source": [
    "numbers.index"
   ]
  },
  {
   "cell_type": "code",
   "execution_count": 61,
   "id": "6940aab4",
   "metadata": {},
   "outputs": [
    {
     "data": {
      "text/plain": [
       "3"
      ]
     },
     "execution_count": 61,
     "metadata": {},
     "output_type": "execute_result"
    }
   ],
   "source": [
    "numbers.index[3] #returns the value of the \"index\".  Not corresponding column value"
   ]
  },
  {
   "cell_type": "code",
   "execution_count": 63,
   "id": "f41a9f00",
   "metadata": {
    "scrolled": true
   },
   "outputs": [
    {
     "data": {
      "text/plain": [
       "array([ 0,  1,  2,  3,  4,  5,  6,  7,  8,  9, 10, 11, 12, 13, 14, 15, 16,\n",
       "       17, 18, 19])"
      ]
     },
     "execution_count": 63,
     "metadata": {},
     "output_type": "execute_result"
    }
   ],
   "source": [
    "numbers.index.values"
   ]
  },
  {
   "cell_type": "markdown",
   "id": "0dacfd77",
   "metadata": {},
   "source": [
    "<a id='svalues'><h3>.values</h3></a>"
   ]
  },
  {
   "cell_type": "code",
   "execution_count": 62,
   "id": "70eb063f",
   "metadata": {},
   "outputs": [
    {
     "data": {
      "text/plain": [
       "array(['$796,459.41', '$278.60', '$482,571.67', '$4,503,915.98',\n",
       "       '$2,121,418.3', '$1,260,813.3', '$87,231.01', '$1,509,175.45',\n",
       "       '$4,138,548.00', '$2,848,913.80', '$594,715.39', '$4,789,988.17',\n",
       "       '$4,513,644.5', '$3,191,059.97', '$1,758,712.24', '$4,338,283.54',\n",
       "       '$4,738,303.38', '$2,791,759.67', '$769,681.94', '$452,650.23'],\n",
       "      dtype=object)"
      ]
     },
     "execution_count": 62,
     "metadata": {},
     "output_type": "execute_result"
    }
   ],
   "source": [
    "numbers.values"
   ]
  },
  {
   "cell_type": "code",
   "execution_count": 86,
   "id": "39998e52",
   "metadata": {},
   "outputs": [
    {
     "data": {
      "text/plain": [
       "'$796,459.41'"
      ]
     },
     "execution_count": 86,
     "metadata": {},
     "output_type": "execute_result"
    }
   ],
   "source": [
    "numbers.values[0]"
   ]
  },
  {
   "cell_type": "code",
   "execution_count": 65,
   "id": "586833fe",
   "metadata": {},
   "outputs": [
    {
     "data": {
      "text/plain": [
       "numpy.ndarray"
      ]
     },
     "execution_count": 65,
     "metadata": {},
     "output_type": "execute_result"
    }
   ],
   "source": [
    "type(numbers.values) #returns a numpy array"
   ]
  },
  {
   "cell_type": "markdown",
   "id": "baff494c",
   "metadata": {},
   "source": [
    "<a id='sdtype'><h3>.dtype</h3></a>"
   ]
  },
  {
   "cell_type": "code",
   "execution_count": 81,
   "id": "4bfb7e63",
   "metadata": {},
   "outputs": [
    {
     "data": {
      "text/plain": [
       "dtype('float64')"
      ]
     },
     "execution_count": 81,
     "metadata": {},
     "output_type": "execute_result"
    }
   ],
   "source": [
    "simple_floats.dtype"
   ]
  },
  {
   "cell_type": "code",
   "execution_count": 77,
   "id": "982ff5de",
   "metadata": {},
   "outputs": [
    {
     "data": {
      "text/plain": [
       "dtype('O')"
      ]
     },
     "execution_count": 77,
     "metadata": {},
     "output_type": "execute_result"
    }
   ],
   "source": [
    "students.dtype #type O for objects strings are considered Objects"
   ]
  },
  {
   "cell_type": "code",
   "execution_count": 78,
   "id": "01e1b66d",
   "metadata": {},
   "outputs": [
    {
     "data": {
      "text/plain": [
       "dtype('int64')"
      ]
     },
     "execution_count": 78,
     "metadata": {},
     "output_type": "execute_result"
    }
   ],
   "source": [
    "simple_ints.dtype"
   ]
  },
  {
   "cell_type": "markdown",
   "id": "5a7b4346",
   "metadata": {},
   "source": [
    "<a id='sname'><h3>.name</h3></a>"
   ]
  },
  {
   "cell_type": "code",
   "execution_count": 84,
   "id": "93829a27",
   "metadata": {},
   "outputs": [],
   "source": [
    "simple_floats.name = \"simple floats\""
   ]
  },
  {
   "cell_type": "code",
   "execution_count": 85,
   "id": "55d0a152",
   "metadata": {},
   "outputs": [
    {
     "data": {
      "text/plain": [
       "'simple floats'"
      ]
     },
     "execution_count": 85,
     "metadata": {},
     "output_type": "execute_result"
    }
   ],
   "source": [
    "simple_floats.name"
   ]
  },
  {
   "cell_type": "markdown",
   "id": "671a89f1",
   "metadata": {},
   "source": [
    "<a id='sshape'><h3>.shape</h3></a>"
   ]
  },
  {
   "cell_type": "code",
   "execution_count": 88,
   "id": "3e916d25",
   "metadata": {},
   "outputs": [
    {
     "data": {
      "text/plain": [
       "(4,)"
      ]
     },
     "execution_count": 88,
     "metadata": {},
     "output_type": "execute_result"
    }
   ],
   "source": [
    "simple_floats.shape"
   ]
  },
  {
   "cell_type": "code",
   "execution_count": 89,
   "id": "f839583b",
   "metadata": {},
   "outputs": [
    {
     "data": {
      "text/plain": [
       "(12,)"
      ]
     },
     "execution_count": 89,
     "metadata": {},
     "output_type": "execute_result"
    }
   ],
   "source": [
    "students.shape"
   ]
  },
  {
   "cell_type": "code",
   "execution_count": 90,
   "id": "11d304c6",
   "metadata": {},
   "outputs": [
    {
     "data": {
      "text/plain": [
       "(10,)"
      ]
     },
     "execution_count": 90,
     "metadata": {},
     "output_type": "execute_result"
    }
   ],
   "source": [
    "simple_ints.shape"
   ]
  },
  {
   "cell_type": "code",
   "execution_count": 91,
   "id": "06d18507",
   "metadata": {},
   "outputs": [
    {
     "data": {
      "text/plain": [
       "(20,)"
      ]
     },
     "execution_count": 91,
     "metadata": {},
     "output_type": "execute_result"
    }
   ],
   "source": [
    "numbers.shape"
   ]
  },
  {
   "cell_type": "markdown",
   "id": "06fc02c0",
   "metadata": {},
   "source": [
    "<a id='seriesmethods'><center><h1>Series Methods</h1></center></a>"
   ]
  },
  {
   "cell_type": "markdown",
   "id": "81e86a84",
   "metadata": {},
   "source": [
    "<a id='headtailsample'><h3>.head() .tail() .sample()</h3></a>"
   ]
  },
  {
   "cell_type": "code",
   "execution_count": 96,
   "id": "921e954c",
   "metadata": {},
   "outputs": [
    {
     "data": {
      "text/plain": [
       "0      $796,459.41\n",
       "1          $278.60\n",
       "2      $482,571.67\n",
       "3    $4,503,915.98\n",
       "4     $2,121,418.3\n",
       "dtype: object"
      ]
     },
     "execution_count": 96,
     "metadata": {},
     "output_type": "execute_result"
    }
   ],
   "source": [
    "numbers.head() # First 5 Values"
   ]
  },
  {
   "cell_type": "code",
   "execution_count": 97,
   "id": "0d0ed458",
   "metadata": {},
   "outputs": [
    {
     "data": {
      "text/plain": [
       "15    $4,338,283.54\n",
       "16    $4,738,303.38\n",
       "17    $2,791,759.67\n",
       "18      $769,681.94\n",
       "19      $452,650.23\n",
       "dtype: object"
      ]
     },
     "execution_count": 97,
     "metadata": {},
     "output_type": "execute_result"
    }
   ],
   "source": [
    "numbers.tail() # Last 5 Values"
   ]
  },
  {
   "cell_type": "code",
   "execution_count": 102,
   "id": "025508aa",
   "metadata": {},
   "outputs": [
    {
     "data": {
      "text/plain": [
       "6        $87,231.01\n",
       "2       $482,571.67\n",
       "9     $2,848,913.80\n",
       "1           $278.60\n",
       "15    $4,338,283.54\n",
       "dtype: object"
      ]
     },
     "execution_count": 102,
     "metadata": {},
     "output_type": "execute_result"
    }
   ],
   "source": [
    "numbers.sample(5) #Random Values, notice I had to tell it I wanted 5 Values, default is one random number"
   ]
  },
  {
   "cell_type": "markdown",
   "id": "34b23b16",
   "metadata": {},
   "source": [
    "<a id='astype'><h3>.astype()</h3></a>"
   ]
  },
  {
   "cell_type": "code",
   "execution_count": 105,
   "id": "48239142",
   "metadata": {},
   "outputs": [
    {
     "data": {
      "text/plain": [
       "0     1.0\n",
       "1     2.0\n",
       "2     3.0\n",
       "3     4.0\n",
       "4     5.0\n",
       "5     6.0\n",
       "6     7.0\n",
       "7     8.0\n",
       "8     9.0\n",
       "9    10.0\n",
       "dtype: float64"
      ]
     },
     "execution_count": 105,
     "metadata": {},
     "output_type": "execute_result"
    }
   ],
   "source": [
    "simple_ints.astype(\"float\")"
   ]
  },
  {
   "cell_type": "code",
   "execution_count": 104,
   "id": "5f7b5460",
   "metadata": {},
   "outputs": [
    {
     "data": {
      "text/plain": [
       "0    1\n",
       "1    2\n",
       "2    3\n",
       "3    4\n",
       "Name: simple floats, dtype: int64"
      ]
     },
     "execution_count": 104,
     "metadata": {},
     "output_type": "execute_result"
    }
   ],
   "source": [
    "simple_floats.astype(\"int\")"
   ]
  },
  {
   "cell_type": "markdown",
   "id": "ba5d58e6",
   "metadata": {},
   "source": [
    "<a id='valuecounts'><h3>.value_counts()</h3></a>"
   ]
  },
  {
   "cell_type": "code",
   "execution_count": 114,
   "id": "f79da2e9",
   "metadata": {},
   "outputs": [
    {
     "data": {
      "text/plain": [
       "Josh       3\n",
       "John       1\n",
       "Billy      1\n",
       "Jane       1\n",
       "Albert     1\n",
       "Suzie      1\n",
       "Marie      1\n",
       "Isaac      1\n",
       "Alan       1\n",
       "Thomas     1\n",
       "Sally      1\n",
       "Richard    1\n",
       "Ada        1\n",
       "dtype: int64"
      ]
     },
     "execution_count": 114,
     "metadata": {},
     "output_type": "execute_result"
    }
   ],
   "source": [
    "students.value_counts()"
   ]
  },
  {
   "cell_type": "markdown",
   "id": "0ee5153c",
   "metadata": {},
   "source": [
    "<a id='describe'><h3>.describe()</h3></a>"
   ]
  },
  {
   "cell_type": "code",
   "execution_count": 115,
   "id": "3667f91e",
   "metadata": {},
   "outputs": [
    {
     "data": {
      "text/plain": [
       "count       15\n",
       "unique      13\n",
       "top       Josh\n",
       "freq         3\n",
       "dtype: object"
      ]
     },
     "execution_count": 115,
     "metadata": {},
     "output_type": "execute_result"
    }
   ],
   "source": [
    "students.describe()"
   ]
  },
  {
   "cell_type": "code",
   "execution_count": 117,
   "id": "ef3605e1",
   "metadata": {},
   "outputs": [
    {
     "data": {
      "text/plain": [
       "count               20\n",
       "unique              20\n",
       "top       $1,260,813.3\n",
       "freq                 1\n",
       "dtype: object"
      ]
     },
     "execution_count": 117,
     "metadata": {},
     "output_type": "execute_result"
    }
   ],
   "source": [
    "numbers.describe()"
   ]
  },
  {
   "cell_type": "code",
   "execution_count": 118,
   "id": "84056dba",
   "metadata": {},
   "outputs": [
    {
     "data": {
      "text/plain": [
       "count    10.00000\n",
       "mean      5.50000\n",
       "std       3.02765\n",
       "min       1.00000\n",
       "25%       3.25000\n",
       "50%       5.50000\n",
       "75%       7.75000\n",
       "max      10.00000\n",
       "dtype: float64"
      ]
     },
     "execution_count": 118,
     "metadata": {},
     "output_type": "execute_result"
    }
   ],
   "source": [
    "simple_ints.describe()"
   ]
  },
  {
   "cell_type": "markdown",
   "id": "4f8893ee",
   "metadata": {},
   "source": [
    "<a id='nlargest'><h3>.nlargest() .nsmallest()</h3></a>"
   ]
  },
  {
   "cell_type": "code",
   "execution_count": 119,
   "id": "522f5ce7",
   "metadata": {},
   "outputs": [
    {
     "data": {
      "text/plain": [
       "3    4.4\n",
       "2    3.3\n",
       "1    2.2\n",
       "0    1.1\n",
       "Name: simple floats, dtype: float64"
      ]
     },
     "execution_count": 119,
     "metadata": {},
     "output_type": "execute_result"
    }
   ],
   "source": [
    "simple_floats.nlargest()"
   ]
  },
  {
   "cell_type": "code",
   "execution_count": 123,
   "id": "3da62349",
   "metadata": {},
   "outputs": [
    {
     "data": {
      "text/plain": [
       "3    4.4\n",
       "Name: simple floats, dtype: float64"
      ]
     },
     "execution_count": 123,
     "metadata": {},
     "output_type": "execute_result"
    }
   ],
   "source": [
    "simple_floats.nlargest().head(1)"
   ]
  },
  {
   "cell_type": "code",
   "execution_count": 120,
   "id": "248e4c1c",
   "metadata": {
    "scrolled": true
   },
   "outputs": [
    {
     "data": {
      "text/plain": [
       "0    1\n",
       "1    2\n",
       "2    3\n",
       "3    4\n",
       "4    5\n",
       "dtype: int64"
      ]
     },
     "execution_count": 120,
     "metadata": {},
     "output_type": "execute_result"
    }
   ],
   "source": [
    "simple_ints.nsmallest()"
   ]
  },
  {
   "cell_type": "markdown",
   "id": "c6292562",
   "metadata": {},
   "source": [
    "<a id='sortvaluesindex'><h3>.sort_values() .sort_index()</h3></a>"
   ]
  },
  {
   "cell_type": "code",
   "execution_count": 127,
   "id": "b986a6cd",
   "metadata": {},
   "outputs": [
    {
     "data": {
      "text/plain": [
       "9    10\n",
       "8     9\n",
       "7     8\n",
       "6     7\n",
       "5     6\n",
       "4     5\n",
       "3     4\n",
       "2     3\n",
       "1     2\n",
       "0     1\n",
       "dtype: int64"
      ]
     },
     "execution_count": 127,
     "metadata": {},
     "output_type": "execute_result"
    }
   ],
   "source": [
    "simple_ints.sort_values(ascending=False)"
   ]
  },
  {
   "cell_type": "code",
   "execution_count": 135,
   "id": "faf0773f",
   "metadata": {},
   "outputs": [
    {
     "data": {
      "text/plain": [
       "9    10\n",
       "8     9\n",
       "7     8\n",
       "6     7\n",
       "5     6\n",
       "4     5\n",
       "3     4\n",
       "2     3\n",
       "1     2\n",
       "0     1\n",
       "dtype: int64"
      ]
     },
     "execution_count": 135,
     "metadata": {},
     "output_type": "execute_result"
    }
   ],
   "source": [
    "simple_ints.sort_values(ascending=False)"
   ]
  },
  {
   "cell_type": "markdown",
   "id": "f824bec6",
   "metadata": {},
   "source": [
    "<div class=\"alert alert-block alert-warning\">\n",
    "<b><h1>sort_values(By=\"?\")</h1> Series does not have by='example', that is a DataFrame</b>"
   ]
  },
  {
   "cell_type": "markdown",
   "id": "3034033d",
   "metadata": {},
   "source": [
    "<a id='isin'><h3>.isin()</h3></a>"
   ]
  },
  {
   "cell_type": "code",
   "execution_count": 191,
   "id": "9705edd7",
   "metadata": {},
   "outputs": [
    {
     "data": {
      "text/plain": [
       "['a', 'e', 'i', 'o', 'u']"
      ]
     },
     "execution_count": 191,
     "metadata": {},
     "output_type": "execute_result"
    }
   ],
   "source": [
    "vowels = list('aeiou')\n",
    "vowels"
   ]
  },
  {
   "cell_type": "code",
   "execution_count": 192,
   "id": "d3bb02ba",
   "metadata": {},
   "outputs": [
    {
     "data": {
      "text/plain": [
       "['a', 'b', 'c', 'd', 'e', 'f', 'g', 'h', 'i', 'j', 'k']"
      ]
     },
     "execution_count": 192,
     "metadata": {},
     "output_type": "execute_result"
    }
   ],
   "source": [
    "letters = list('abcdefghijk')\n",
    "letters"
   ]
  },
  {
   "cell_type": "markdown",
   "id": "bfbe4fa3",
   "metadata": {},
   "source": [
    "<a id='.apply'><h3>.apply()</h3></a>"
   ]
  },
  {
   "cell_type": "code",
   "execution_count": null,
   "id": "3f2f08b5",
   "metadata": {},
   "outputs": [],
   "source": []
  },
  {
   "cell_type": "code",
   "execution_count": null,
   "id": "c9837a21",
   "metadata": {},
   "outputs": [],
   "source": []
  },
  {
   "cell_type": "code",
   "execution_count": null,
   "id": "82aaf665",
   "metadata": {},
   "outputs": [],
   "source": []
  },
  {
   "cell_type": "code",
   "execution_count": null,
   "id": "8e4c69df",
   "metadata": {},
   "outputs": [],
   "source": []
  },
  {
   "cell_type": "code",
   "execution_count": null,
   "id": "886778a2",
   "metadata": {},
   "outputs": [],
   "source": []
  },
  {
   "cell_type": "markdown",
   "id": "e1742e1d",
   "metadata": {},
   "source": [
    "<a id='andor'><center><h1>And/Or Statements</h1></center></a>"
   ]
  },
  {
   "cell_type": "code",
   "execution_count": 144,
   "id": "3305ba25",
   "metadata": {},
   "outputs": [
    {
     "data": {
      "text/plain": [
       "0    False\n",
       "1    False\n",
       "2    False\n",
       "3    False\n",
       "4    False\n",
       "5    False\n",
       "6    False\n",
       "7     True\n",
       "8    False\n",
       "9     True\n",
       "dtype: bool"
      ]
     },
     "execution_count": 144,
     "metadata": {},
     "output_type": "execute_result"
    }
   ],
   "source": [
    "(simple_ints % 2 == 0) & (simple_ints> 7) #And statement Even and greater than 7 returns boolean mask"
   ]
  },
  {
   "cell_type": "code",
   "execution_count": 141,
   "id": "29309475",
   "metadata": {},
   "outputs": [
    {
     "data": {
      "text/plain": [
       "7     8\n",
       "9    10\n",
       "dtype: int64"
      ]
     },
     "execution_count": 141,
     "metadata": {},
     "output_type": "execute_result"
    }
   ],
   "source": [
    "simple_ints[(simple_ints % 2 == 0) & (simple_ints> 7)] #And statement Even and greater than 7"
   ]
  },
  {
   "cell_type": "code",
   "execution_count": 147,
   "id": "5cac5457",
   "metadata": {},
   "outputs": [
    {
     "data": {
      "text/plain": [
       "0     True\n",
       "1    False\n",
       "2     True\n",
       "3    False\n",
       "4     True\n",
       "5     True\n",
       "6     True\n",
       "7     True\n",
       "8     True\n",
       "9     True\n",
       "dtype: bool"
      ]
     },
     "execution_count": 147,
     "metadata": {},
     "output_type": "execute_result"
    }
   ],
   "source": [
    "(simple_ints % 2 != 0) | (simple_ints > 5) #Odd or great than 5 Boolean mask"
   ]
  },
  {
   "cell_type": "code",
   "execution_count": 148,
   "id": "533d8bec",
   "metadata": {},
   "outputs": [
    {
     "data": {
      "text/plain": [
       "0     1\n",
       "2     3\n",
       "4     5\n",
       "5     6\n",
       "6     7\n",
       "7     8\n",
       "8     9\n",
       "9    10\n",
       "dtype: int64"
      ]
     },
     "execution_count": 148,
     "metadata": {},
     "output_type": "execute_result"
    }
   ],
   "source": [
    "simple_ints[(simple_ints % 2 != 0) | (simple_ints > 5)]# returned Values"
   ]
  },
  {
   "cell_type": "markdown",
   "id": "5547a48b",
   "metadata": {},
   "source": [
    "<a id='str'><center><h1>.str</h1></center></a>"
   ]
  },
  {
   "cell_type": "markdown",
   "id": "598b7a14",
   "metadata": {},
   "source": [
    "<a id='lower'><h3>str.lower()</h3></a>"
   ]
  },
  {
   "cell_type": "code",
   "execution_count": 172,
   "id": "3ed515b1",
   "metadata": {},
   "outputs": [
    {
     "data": {
      "text/plain": [
       "10    Isaac\n",
       "11     Alan\n",
       "12     Josh\n",
       "13     Josh\n",
       "14     Josh\n",
       "dtype: object"
      ]
     },
     "execution_count": 172,
     "metadata": {},
     "output_type": "execute_result"
    }
   ],
   "source": [
    "students.tail(5)"
   ]
  },
  {
   "cell_type": "code",
   "execution_count": 171,
   "id": "f599dd99",
   "metadata": {},
   "outputs": [
    {
     "data": {
      "text/plain": [
       "10    isaac\n",
       "11     alan\n",
       "12     josh\n",
       "13     josh\n",
       "14     josh\n",
       "dtype: object"
      ]
     },
     "execution_count": 171,
     "metadata": {},
     "output_type": "execute_result"
    }
   ],
   "source": [
    "students.str.lower().tail(5)"
   ]
  },
  {
   "cell_type": "markdown",
   "id": "6fcdb611",
   "metadata": {},
   "source": [
    "<a id='replace'><h3>str.replace()</h3></a>"
   ]
  },
  {
   "cell_type": "code",
   "execution_count": 170,
   "id": "bf16d4ee",
   "metadata": {},
   "outputs": [
    {
     "name": "stderr",
     "output_type": "stream",
     "text": [
      "<ipython-input-170-bf63bb9351cd>:1: FutureWarning: The default value of regex will change from True to False in a future version. In addition, single character regular expressions will*not* be treated as literal strings when regex=True.\n",
      "  numbers.str.replace(\"$\", \"\").head(5)\n"
     ]
    },
    {
     "data": {
      "text/plain": [
       "0      796,459.41\n",
       "1          278.60\n",
       "2      482,571.67\n",
       "3    4,503,915.98\n",
       "4     2,121,418.3\n",
       "dtype: object"
      ]
     },
     "execution_count": 170,
     "metadata": {},
     "output_type": "execute_result"
    }
   ],
   "source": [
    "numbers.str.replace(\"$\", \"\").head(5)"
   ]
  },
  {
   "cell_type": "code",
   "execution_count": 174,
   "id": "57bd16b3",
   "metadata": {},
   "outputs": [
    {
     "data": {
      "text/plain": [
       "0      $796,459.41\n",
       "1          $278.60\n",
       "2      $482,571.67\n",
       "3    $4,503,915.98\n",
       "4     $2,121,418.3\n",
       "dtype: object"
      ]
     },
     "execution_count": 174,
     "metadata": {},
     "output_type": "execute_result"
    }
   ],
   "source": [
    "numbers.head(5) #notice the orginal numbers is not mutated"
   ]
  },
  {
   "cell_type": "markdown",
   "id": "40ee8597",
   "metadata": {},
   "source": [
    "<a id='startswith'><h3>str.startswith()</h3></a>"
   ]
  },
  {
   "cell_type": "code",
   "execution_count": 208,
   "id": "273451ed",
   "metadata": {},
   "outputs": [
    {
     "data": {
      "text/plain": [
       "0     False\n",
       "1      True\n",
       "2     False\n",
       "3     False\n",
       "4     False\n",
       "5      True\n",
       "6     False\n",
       "7     False\n",
       "8     False\n",
       "9     False\n",
       "10    False\n",
       "11    False\n",
       "12     True\n",
       "13     True\n",
       "14     True\n",
       "dtype: bool"
      ]
     },
     "execution_count": 208,
     "metadata": {},
     "output_type": "execute_result"
    }
   ],
   "source": [
    "students.str.startswith(\"J\") #returns Boolean Mask"
   ]
  },
  {
   "cell_type": "code",
   "execution_count": null,
   "id": "bac03a3f",
   "metadata": {},
   "outputs": [],
   "source": []
  },
  {
   "cell_type": "code",
   "execution_count": 219,
   "id": "58c2af57",
   "metadata": {},
   "outputs": [
    {
     "data": {
      "text/plain": [
       "1     Jane\n",
       "5     John\n",
       "12    Josh\n",
       "13    Josh\n",
       "14    Josh\n",
       "dtype: object"
      ]
     },
     "execution_count": 219,
     "metadata": {},
     "output_type": "execute_result"
    }
   ],
   "source": [
    "students[students.str.startswith(\"J\")]"
   ]
  },
  {
   "cell_type": "code",
   "execution_count": null,
   "id": "4a0195b5",
   "metadata": {},
   "outputs": [],
   "source": []
  },
  {
   "cell_type": "code",
   "execution_count": 181,
   "id": "9f99eeca",
   "metadata": {},
   "outputs": [
    {
     "data": {
      "text/plain": [
       "0    True\n",
       "1    True\n",
       "2    True\n",
       "3    True\n",
       "4    True\n",
       "dtype: bool"
      ]
     },
     "execution_count": 181,
     "metadata": {},
     "output_type": "execute_result"
    }
   ],
   "source": [
    "numbers.str.startswith(\"$\").head(5) # remember numbers is a string"
   ]
  },
  {
   "cell_type": "code",
   "execution_count": 183,
   "id": "95d1a713",
   "metadata": {},
   "outputs": [
    {
     "data": {
      "text/plain": [
       "0      $796,459.41\n",
       "1          $278.60\n",
       "2      $482,571.67\n",
       "3    $4,503,915.98\n",
       "4     $2,121,418.3\n",
       "dtype: object"
      ]
     },
     "execution_count": 183,
     "metadata": {},
     "output_type": "execute_result"
    }
   ],
   "source": [
    "numbers[numbers.str.startswith(\"$\")].head(5)"
   ]
  },
  {
   "cell_type": "markdown",
   "id": "38733724",
   "metadata": {},
   "source": [
    "<a id='contains'><h3>str.contains()</h3></a>"
   ]
  },
  {
   "cell_type": "code",
   "execution_count": 186,
   "id": "3a6688ee",
   "metadata": {},
   "outputs": [
    {
     "data": {
      "text/plain": [
       "10    False\n",
       "11    False\n",
       "12     True\n",
       "13     True\n",
       "14     True\n",
       "dtype: bool"
      ]
     },
     "execution_count": 186,
     "metadata": {},
     "output_type": "execute_result"
    }
   ],
   "source": [
    "students.str.contains(\"Jo\").tail(5) # Returns Boolean Mask"
   ]
  },
  {
   "cell_type": "code",
   "execution_count": 187,
   "id": "1410b93c",
   "metadata": {},
   "outputs": [
    {
     "data": {
      "text/plain": [
       "5     John\n",
       "12    Josh\n",
       "13    Josh\n",
       "14    Josh\n",
       "dtype: object"
      ]
     },
     "execution_count": 187,
     "metadata": {},
     "output_type": "execute_result"
    }
   ],
   "source": [
    "students[students.str.contains(\"Jo\")].tail(5)"
   ]
  },
  {
   "cell_type": "markdown",
   "id": "bb51ae6e",
   "metadata": {},
   "source": [
    "<a id='isin'><h3>.isin()</h3></a>"
   ]
  },
  {
   "cell_type": "code",
   "execution_count": 190,
   "id": "919eea89",
   "metadata": {},
   "outputs": [
    {
     "data": {
      "text/plain": [
       "['a', 'e', 'i', 'o', 'u']"
      ]
     },
     "execution_count": 190,
     "metadata": {},
     "output_type": "execute_result"
    }
   ],
   "source": [
    "vowels = list('aeiou')\n",
    "vowels"
   ]
  },
  {
   "cell_type": "code",
   "execution_count": 220,
   "id": "1b630c19",
   "metadata": {},
   "outputs": [
    {
     "data": {
      "text/plain": [
       "['a', 'b', 'c', 'd', 'e', 'f', 'g', 'h', 'i', 'j', 'k']"
      ]
     },
     "execution_count": 220,
     "metadata": {},
     "output_type": "execute_result"
    }
   ],
   "source": [
    "letters = list('abcdefghijk')\n",
    "letters"
   ]
  },
  {
   "cell_type": "code",
   "execution_count": 222,
   "id": "f2e2cd3f",
   "metadata": {},
   "outputs": [
    {
     "data": {
      "text/plain": [
       "0     a\n",
       "1     b\n",
       "2     c\n",
       "3     d\n",
       "4     e\n",
       "5     f\n",
       "6     g\n",
       "7     h\n",
       "8     i\n",
       "9     j\n",
       "10    k\n",
       "dtype: object"
      ]
     },
     "execution_count": 222,
     "metadata": {},
     "output_type": "execute_result"
    }
   ],
   "source": [
    "letters_series = pd.Series(letters)\n",
    "letters_series"
   ]
  },
  {
   "cell_type": "code",
   "execution_count": 224,
   "id": "23c57b26",
   "metadata": {},
   "outputs": [],
   "source": [
    "Boolean_mask = letters_series.isin(vowels)"
   ]
  },
  {
   "cell_type": "code",
   "execution_count": 226,
   "id": "16b6109c",
   "metadata": {},
   "outputs": [
    {
     "data": {
      "text/plain": [
       "0      True\n",
       "1     False\n",
       "2     False\n",
       "3     False\n",
       "4      True\n",
       "5     False\n",
       "6     False\n",
       "7     False\n",
       "8      True\n",
       "9     False\n",
       "10    False\n",
       "dtype: bool"
      ]
     },
     "execution_count": 226,
     "metadata": {},
     "output_type": "execute_result"
    }
   ],
   "source": [
    "Boolean_mask"
   ]
  },
  {
   "cell_type": "code",
   "execution_count": 225,
   "id": "c8831024",
   "metadata": {},
   "outputs": [
    {
     "data": {
      "text/plain": [
       "0    a\n",
       "4    e\n",
       "8    i\n",
       "dtype: object"
      ]
     },
     "execution_count": 225,
     "metadata": {},
     "output_type": "execute_result"
    }
   ],
   "source": [
    "letters_series[Boolean_mask]"
   ]
  },
  {
   "cell_type": "markdown",
   "id": "55664529",
   "metadata": {},
   "source": [
    "<a id='apply'><h3>.apply()</h3></a>"
   ]
  },
  {
   "cell_type": "code",
   "execution_count": 231,
   "id": "9fc265a6",
   "metadata": {},
   "outputs": [],
   "source": [
    "def times5(input_value):\n",
    "        return input_value *5\n",
    "    "
   ]
  },
  {
   "cell_type": "code",
   "execution_count": 232,
   "id": "2863451b",
   "metadata": {},
   "outputs": [],
   "source": [
    "new_series = simple_ints.apply(times5)  #Same a the example below using lambda"
   ]
  },
  {
   "cell_type": "code",
   "execution_count": 228,
   "id": "984aaa60",
   "metadata": {},
   "outputs": [
    {
     "data": {
      "text/plain": [
       "0     5\n",
       "1    10\n",
       "2    15\n",
       "3    20\n",
       "4    25\n",
       "5    30\n",
       "6    35\n",
       "7    40\n",
       "8    45\n",
       "9    50\n",
       "dtype: int64"
      ]
     },
     "execution_count": 228,
     "metadata": {},
     "output_type": "execute_result"
    }
   ],
   "source": [
    "new_series"
   ]
  },
  {
   "cell_type": "code",
   "execution_count": 236,
   "id": "b6eeaf6c",
   "metadata": {},
   "outputs": [],
   "source": [
    "new_series = simple_ints.apply(lambda x : x *5) #Same as creating a function as above"
   ]
  },
  {
   "cell_type": "code",
   "execution_count": 237,
   "id": "3dfef199",
   "metadata": {},
   "outputs": [
    {
     "data": {
      "text/plain": [
       "0     5\n",
       "1    10\n",
       "2    15\n",
       "3    20\n",
       "4    25\n",
       "5    30\n",
       "6    35\n",
       "7    40\n",
       "8    45\n",
       "9    50\n",
       "dtype: int64"
      ]
     },
     "execution_count": 237,
     "metadata": {},
     "output_type": "execute_result"
    }
   ],
   "source": [
    "new_series"
   ]
  },
  {
   "cell_type": "code",
   "execution_count": null,
   "id": "11f95bf8",
   "metadata": {},
   "outputs": [],
   "source": [
    "# if and else statement inside lambda example below"
   ]
  },
  {
   "cell_type": "code",
   "execution_count": 246,
   "id": "d211f4ed",
   "metadata": {},
   "outputs": [],
   "source": [
    "new_series = simple_ints.apply(lambda simple_ints : True if simple_ints > 5 else False)"
   ]
  },
  {
   "cell_type": "code",
   "execution_count": 247,
   "id": "2ee885b2",
   "metadata": {},
   "outputs": [
    {
     "data": {
      "text/plain": [
       "0    False\n",
       "1    False\n",
       "2    False\n",
       "3    False\n",
       "4    False\n",
       "5     True\n",
       "6     True\n",
       "7     True\n",
       "8     True\n",
       "9     True\n",
       "dtype: bool"
      ]
     },
     "execution_count": 247,
     "metadata": {},
     "output_type": "execute_result"
    }
   ],
   "source": [
    "new_series"
   ]
  },
  {
   "cell_type": "markdown",
   "id": "a4cf7a07",
   "metadata": {},
   "source": [
    "<a id='pdcut'><h3>pd.cut()</h3></a>"
   ]
  },
  {
   "cell_type": "code",
   "execution_count": 260,
   "id": "00dc1675",
   "metadata": {},
   "outputs": [
    {
     "data": {
      "text/plain": [
       "0      0\n",
       "1      1\n",
       "2      2\n",
       "3      3\n",
       "4      4\n",
       "5      5\n",
       "6      6\n",
       "7      7\n",
       "8      8\n",
       "9      9\n",
       "10    10\n",
       "11    11\n",
       "12    12\n",
       "13    13\n",
       "14    14\n",
       "15    15\n",
       "dtype: int64"
      ]
     },
     "execution_count": 260,
     "metadata": {},
     "output_type": "execute_result"
    }
   ],
   "source": [
    "s = pd.Series(list(range(16)))\n",
    "s"
   ]
  },
  {
   "cell_type": "code",
   "execution_count": 261,
   "id": "1df62185",
   "metadata": {},
   "outputs": [
    {
     "data": {
      "text/plain": [
       "0     (-0.015, 3.75]\n",
       "1     (-0.015, 3.75]\n",
       "2     (-0.015, 3.75]\n",
       "3     (-0.015, 3.75]\n",
       "4        (3.75, 7.5]\n",
       "5        (3.75, 7.5]\n",
       "6        (3.75, 7.5]\n",
       "7        (3.75, 7.5]\n",
       "8       (7.5, 11.25]\n",
       "9       (7.5, 11.25]\n",
       "10      (7.5, 11.25]\n",
       "11      (7.5, 11.25]\n",
       "12     (11.25, 15.0]\n",
       "13     (11.25, 15.0]\n",
       "14     (11.25, 15.0]\n",
       "15     (11.25, 15.0]\n",
       "dtype: category\n",
       "Categories (4, interval[float64]): [(-0.015, 3.75] < (3.75, 7.5] < (7.5, 11.25] < (11.25, 15.0]]"
      ]
     },
     "execution_count": 261,
     "metadata": {},
     "output_type": "execute_result"
    }
   ],
   "source": [
    "pd.cut(s, bins=4)"
   ]
  },
  {
   "cell_type": "code",
   "execution_count": 262,
   "id": "58736c6c",
   "metadata": {},
   "outputs": [
    {
     "data": {
      "text/plain": [
       "(-0.015, 5.0]    6\n",
       "(5.0, 10.0]      5\n",
       "(10.0, 15.0]     5\n",
       "dtype: int64"
      ]
     },
     "execution_count": 262,
     "metadata": {},
     "output_type": "execute_result"
    }
   ],
   "source": [
    "pd.cut(s, 3).value_counts() # you can use value counts on your bins"
   ]
  },
  {
   "cell_type": "code",
   "execution_count": 265,
   "id": "bcb7d4df",
   "metadata": {},
   "outputs": [
    {
     "data": {
      "text/plain": [
       "0       0-3\n",
       "1       0-3\n",
       "2       0-3\n",
       "3       0-3\n",
       "4       4-7\n",
       "5       4-7\n",
       "6       4-7\n",
       "7       4-7\n",
       "8      8-11\n",
       "9      8-11\n",
       "10     8-11\n",
       "11     8-11\n",
       "12    12-15\n",
       "13    12-15\n",
       "14    12-15\n",
       "15    12-15\n",
       "dtype: category\n",
       "Categories (4, object): ['0-3' < '4-7' < '8-11' < '12-15']"
      ]
     },
     "execution_count": 265,
     "metadata": {},
     "output_type": "execute_result"
    }
   ],
   "source": [
    "pd.cut(s, bins=4, labels=[\"0-3\", \"4-7\", \"8-11\", \"12-15\"]) #using labels"
   ]
  },
  {
   "cell_type": "markdown",
   "id": "4d9a903c",
   "metadata": {},
   "source": [
    "<a id='df'><center><h1>Pandas Dataframes</h1></center></a>"
   ]
  },
  {
   "cell_type": "code",
   "execution_count": 267,
   "id": "7ee3ac0c",
   "metadata": {},
   "outputs": [],
   "source": [
    "import pandas as pd\n",
    "import numpy as np\n",
    "\n",
    "np.random.seed(123)\n",
    "\n",
    "students = ['Sally', 'Jane', 'Suzie', 'Billy', 'Ada', 'John', 'Thomas',\n",
    "            'Marie', 'Albert', 'Richard', 'Isaac', 'Alan']\n",
    "\n",
    "# randomly generate scores for each student for each subject\n",
    "# note that all the values need to have the same length here\n",
    "math_grades = np.random.randint(low=60, high=100, size=len(students))\n",
    "english_grades = np.random.randint(low=60, high=100, size=len(students))\n",
    "reading_grades = np.random.randint(low=60, high=100, size=len(students))\n",
    "\n",
    "df = pd.DataFrame({'name': students,\n",
    "                   'math': math_grades,\n",
    "                   'english': english_grades,\n",
    "                   'reading': reading_grades})"
   ]
  },
  {
   "cell_type": "markdown",
   "id": "571df816",
   "metadata": {},
   "source": [
    "<a id='dfatrributes'><center><h1>Dataframes Attributes</h1></center></a>"
   ]
  },
  {
   "cell_type": "markdown",
   "id": "ba97ec3e",
   "metadata": {},
   "source": [
    "<a id='dtypes'><h3>.dtypes</h3></a>"
   ]
  },
  {
   "cell_type": "code",
   "execution_count": 280,
   "id": "6af73e28",
   "metadata": {},
   "outputs": [
    {
     "data": {
      "text/plain": [
       "name       object\n",
       "math        int64\n",
       "english     int64\n",
       "reading     int64\n",
       "dtype: object"
      ]
     },
     "execution_count": 280,
     "metadata": {},
     "output_type": "execute_result"
    }
   ],
   "source": [
    "df.dtypes"
   ]
  },
  {
   "cell_type": "markdown",
   "id": "51c09c21",
   "metadata": {},
   "source": [
    "<a id='shape'><h3>.shape</h3></a>"
   ]
  },
  {
   "cell_type": "code",
   "execution_count": 281,
   "id": "fe3df5fb",
   "metadata": {},
   "outputs": [
    {
     "data": {
      "text/plain": [
       "(12, 4)"
      ]
     },
     "execution_count": 281,
     "metadata": {},
     "output_type": "execute_result"
    }
   ],
   "source": [
    "df.shape"
   ]
  },
  {
   "cell_type": "markdown",
   "id": "d392b249",
   "metadata": {},
   "source": [
    "<a id='columns'><h3>.columns</h3></a>"
   ]
  },
  {
   "cell_type": "code",
   "execution_count": 282,
   "id": "eb0c64e3",
   "metadata": {},
   "outputs": [
    {
     "data": {
      "text/plain": [
       "Index(['name', 'math', 'english', 'reading'], dtype='object')"
      ]
     },
     "execution_count": 282,
     "metadata": {},
     "output_type": "execute_result"
    }
   ],
   "source": [
    "df.columns"
   ]
  },
  {
   "cell_type": "markdown",
   "id": "0322ff86",
   "metadata": {},
   "source": [
    "<a id='dfindex'><h3>.index</h3></a>"
   ]
  },
  {
   "cell_type": "code",
   "execution_count": 283,
   "id": "bdcebd3f",
   "metadata": {},
   "outputs": [
    {
     "data": {
      "text/plain": [
       "RangeIndex(start=0, stop=12, step=1)"
      ]
     },
     "execution_count": 283,
     "metadata": {},
     "output_type": "execute_result"
    }
   ],
   "source": [
    "df.index"
   ]
  },
  {
   "cell_type": "markdown",
   "id": "498f76e1",
   "metadata": {},
   "source": [
    "<a id='dfmethods'><center><h1>Dataframes Methods</h1></center></a>"
   ]
  },
  {
   "cell_type": "markdown",
   "id": "4d1938b8",
   "metadata": {},
   "source": [
    "<a id='dfdescribe'><h3>.describe()</h3></a>"
   ]
  },
  {
   "cell_type": "code",
   "execution_count": 287,
   "id": "466c6d96",
   "metadata": {},
   "outputs": [
    {
     "data": {
      "text/html": [
       "<div>\n",
       "<style scoped>\n",
       "    .dataframe tbody tr th:only-of-type {\n",
       "        vertical-align: middle;\n",
       "    }\n",
       "\n",
       "    .dataframe tbody tr th {\n",
       "        vertical-align: top;\n",
       "    }\n",
       "\n",
       "    .dataframe thead th {\n",
       "        text-align: right;\n",
       "    }\n",
       "</style>\n",
       "<table border=\"1\" class=\"dataframe\">\n",
       "  <thead>\n",
       "    <tr style=\"text-align: right;\">\n",
       "      <th></th>\n",
       "      <th>math</th>\n",
       "      <th>english</th>\n",
       "      <th>reading</th>\n",
       "    </tr>\n",
       "  </thead>\n",
       "  <tbody>\n",
       "    <tr>\n",
       "      <th>count</th>\n",
       "      <td>12.000000</td>\n",
       "      <td>12.000000</td>\n",
       "      <td>12.000000</td>\n",
       "    </tr>\n",
       "    <tr>\n",
       "      <th>mean</th>\n",
       "      <td>84.833333</td>\n",
       "      <td>77.666667</td>\n",
       "      <td>86.500000</td>\n",
       "    </tr>\n",
       "    <tr>\n",
       "      <th>std</th>\n",
       "      <td>11.134168</td>\n",
       "      <td>13.371158</td>\n",
       "      <td>9.643651</td>\n",
       "    </tr>\n",
       "    <tr>\n",
       "      <th>min</th>\n",
       "      <td>62.000000</td>\n",
       "      <td>62.000000</td>\n",
       "      <td>67.000000</td>\n",
       "    </tr>\n",
       "    <tr>\n",
       "      <th>25%</th>\n",
       "      <td>78.500000</td>\n",
       "      <td>63.750000</td>\n",
       "      <td>80.750000</td>\n",
       "    </tr>\n",
       "    <tr>\n",
       "      <th>50%</th>\n",
       "      <td>90.000000</td>\n",
       "      <td>77.500000</td>\n",
       "      <td>89.000000</td>\n",
       "    </tr>\n",
       "    <tr>\n",
       "      <th>75%</th>\n",
       "      <td>92.250000</td>\n",
       "      <td>86.750000</td>\n",
       "      <td>93.250000</td>\n",
       "    </tr>\n",
       "    <tr>\n",
       "      <th>max</th>\n",
       "      <td>98.000000</td>\n",
       "      <td>99.000000</td>\n",
       "      <td>98.000000</td>\n",
       "    </tr>\n",
       "  </tbody>\n",
       "</table>\n",
       "</div>"
      ],
      "text/plain": [
       "            math    english    reading\n",
       "count  12.000000  12.000000  12.000000\n",
       "mean   84.833333  77.666667  86.500000\n",
       "std    11.134168  13.371158   9.643651\n",
       "min    62.000000  62.000000  67.000000\n",
       "25%    78.500000  63.750000  80.750000\n",
       "50%    90.000000  77.500000  89.000000\n",
       "75%    92.250000  86.750000  93.250000\n",
       "max    98.000000  99.000000  98.000000"
      ]
     },
     "execution_count": 287,
     "metadata": {},
     "output_type": "execute_result"
    }
   ],
   "source": [
    "df.describe()"
   ]
  },
  {
   "cell_type": "markdown",
   "id": "00ca514e",
   "metadata": {},
   "source": [
    "<a id='dfinfo'><h3>.info()</h3></a>"
   ]
  },
  {
   "cell_type": "code",
   "execution_count": 270,
   "id": "f6b49ea4",
   "metadata": {},
   "outputs": [
    {
     "name": "stdout",
     "output_type": "stream",
     "text": [
      "<class 'pandas.core.frame.DataFrame'>\n",
      "RangeIndex: 12 entries, 0 to 11\n",
      "Data columns (total 4 columns):\n",
      " #   Column   Non-Null Count  Dtype \n",
      "---  ------   --------------  ----- \n",
      " 0   name     12 non-null     object\n",
      " 1   math     12 non-null     int64 \n",
      " 2   english  12 non-null     int64 \n",
      " 3   reading  12 non-null     int64 \n",
      "dtypes: int64(3), object(1)\n",
      "memory usage: 512.0+ bytes\n"
     ]
    }
   ],
   "source": [
    "df.info()"
   ]
  },
  {
   "cell_type": "markdown",
   "id": "6ec10241",
   "metadata": {},
   "source": [
    "<a id='dfhead'><h3>.head()</h3></a>"
   ]
  },
  {
   "cell_type": "code",
   "execution_count": 286,
   "id": "1166abe0",
   "metadata": {},
   "outputs": [
    {
     "data": {
      "text/html": [
       "<div>\n",
       "<style scoped>\n",
       "    .dataframe tbody tr th:only-of-type {\n",
       "        vertical-align: middle;\n",
       "    }\n",
       "\n",
       "    .dataframe tbody tr th {\n",
       "        vertical-align: top;\n",
       "    }\n",
       "\n",
       "    .dataframe thead th {\n",
       "        text-align: right;\n",
       "    }\n",
       "</style>\n",
       "<table border=\"1\" class=\"dataframe\">\n",
       "  <thead>\n",
       "    <tr style=\"text-align: right;\">\n",
       "      <th></th>\n",
       "      <th>name</th>\n",
       "      <th>math</th>\n",
       "      <th>english</th>\n",
       "      <th>reading</th>\n",
       "    </tr>\n",
       "  </thead>\n",
       "  <tbody>\n",
       "    <tr>\n",
       "      <th>0</th>\n",
       "      <td>Sally</td>\n",
       "      <td>62</td>\n",
       "      <td>85</td>\n",
       "      <td>80</td>\n",
       "    </tr>\n",
       "    <tr>\n",
       "      <th>1</th>\n",
       "      <td>Jane</td>\n",
       "      <td>88</td>\n",
       "      <td>79</td>\n",
       "      <td>67</td>\n",
       "    </tr>\n",
       "    <tr>\n",
       "      <th>2</th>\n",
       "      <td>Suzie</td>\n",
       "      <td>94</td>\n",
       "      <td>74</td>\n",
       "      <td>95</td>\n",
       "    </tr>\n",
       "    <tr>\n",
       "      <th>3</th>\n",
       "      <td>Billy</td>\n",
       "      <td>98</td>\n",
       "      <td>96</td>\n",
       "      <td>88</td>\n",
       "    </tr>\n",
       "    <tr>\n",
       "      <th>4</th>\n",
       "      <td>Ada</td>\n",
       "      <td>77</td>\n",
       "      <td>92</td>\n",
       "      <td>98</td>\n",
       "    </tr>\n",
       "  </tbody>\n",
       "</table>\n",
       "</div>"
      ],
      "text/plain": [
       "    name  math  english  reading\n",
       "0  Sally    62       85       80\n",
       "1   Jane    88       79       67\n",
       "2  Suzie    94       74       95\n",
       "3  Billy    98       96       88\n",
       "4    Ada    77       92       98"
      ]
     },
     "execution_count": 286,
     "metadata": {},
     "output_type": "execute_result"
    }
   ],
   "source": [
    "df.head()"
   ]
  },
  {
   "cell_type": "markdown",
   "id": "f12526fb",
   "metadata": {},
   "source": [
    "<a id='dfrename'><h3>.rename()</h3></a>"
   ]
  },
  {
   "cell_type": "code",
   "execution_count": 291,
   "id": "10fba025",
   "metadata": {},
   "outputs": [
    {
     "data": {
      "text/html": [
       "<div>\n",
       "<style scoped>\n",
       "    .dataframe tbody tr th:only-of-type {\n",
       "        vertical-align: middle;\n",
       "    }\n",
       "\n",
       "    .dataframe tbody tr th {\n",
       "        vertical-align: top;\n",
       "    }\n",
       "\n",
       "    .dataframe thead th {\n",
       "        text-align: right;\n",
       "    }\n",
       "</style>\n",
       "<table border=\"1\" class=\"dataframe\">\n",
       "  <thead>\n",
       "    <tr style=\"text-align: right;\">\n",
       "      <th></th>\n",
       "      <th>student</th>\n",
       "      <th>math</th>\n",
       "      <th>english</th>\n",
       "      <th>reading</th>\n",
       "    </tr>\n",
       "  </thead>\n",
       "  <tbody>\n",
       "    <tr>\n",
       "      <th>0</th>\n",
       "      <td>Sally</td>\n",
       "      <td>62</td>\n",
       "      <td>85</td>\n",
       "      <td>80</td>\n",
       "    </tr>\n",
       "    <tr>\n",
       "      <th>1</th>\n",
       "      <td>Jane</td>\n",
       "      <td>88</td>\n",
       "      <td>79</td>\n",
       "      <td>67</td>\n",
       "    </tr>\n",
       "    <tr>\n",
       "      <th>2</th>\n",
       "      <td>Suzie</td>\n",
       "      <td>94</td>\n",
       "      <td>74</td>\n",
       "      <td>95</td>\n",
       "    </tr>\n",
       "    <tr>\n",
       "      <th>3</th>\n",
       "      <td>Billy</td>\n",
       "      <td>98</td>\n",
       "      <td>96</td>\n",
       "      <td>88</td>\n",
       "    </tr>\n",
       "    <tr>\n",
       "      <th>4</th>\n",
       "      <td>Ada</td>\n",
       "      <td>77</td>\n",
       "      <td>92</td>\n",
       "      <td>98</td>\n",
       "    </tr>\n",
       "    <tr>\n",
       "      <th>5</th>\n",
       "      <td>John</td>\n",
       "      <td>79</td>\n",
       "      <td>76</td>\n",
       "      <td>93</td>\n",
       "    </tr>\n",
       "    <tr>\n",
       "      <th>6</th>\n",
       "      <td>Thomas</td>\n",
       "      <td>82</td>\n",
       "      <td>64</td>\n",
       "      <td>81</td>\n",
       "    </tr>\n",
       "    <tr>\n",
       "      <th>7</th>\n",
       "      <td>Marie</td>\n",
       "      <td>93</td>\n",
       "      <td>63</td>\n",
       "      <td>90</td>\n",
       "    </tr>\n",
       "    <tr>\n",
       "      <th>8</th>\n",
       "      <td>Albert</td>\n",
       "      <td>92</td>\n",
       "      <td>62</td>\n",
       "      <td>87</td>\n",
       "    </tr>\n",
       "    <tr>\n",
       "      <th>9</th>\n",
       "      <td>Richard</td>\n",
       "      <td>69</td>\n",
       "      <td>80</td>\n",
       "      <td>94</td>\n",
       "    </tr>\n",
       "    <tr>\n",
       "      <th>10</th>\n",
       "      <td>Isaac</td>\n",
       "      <td>92</td>\n",
       "      <td>99</td>\n",
       "      <td>93</td>\n",
       "    </tr>\n",
       "    <tr>\n",
       "      <th>11</th>\n",
       "      <td>Alan</td>\n",
       "      <td>92</td>\n",
       "      <td>62</td>\n",
       "      <td>72</td>\n",
       "    </tr>\n",
       "  </tbody>\n",
       "</table>\n",
       "</div>"
      ],
      "text/plain": [
       "    student  math  english  reading\n",
       "0     Sally    62       85       80\n",
       "1      Jane    88       79       67\n",
       "2     Suzie    94       74       95\n",
       "3     Billy    98       96       88\n",
       "4       Ada    77       92       98\n",
       "5      John    79       76       93\n",
       "6    Thomas    82       64       81\n",
       "7     Marie    93       63       90\n",
       "8    Albert    92       62       87\n",
       "9   Richard    69       80       94\n",
       "10    Isaac    92       99       93\n",
       "11     Alan    92       62       72"
      ]
     },
     "execution_count": 291,
     "metadata": {},
     "output_type": "execute_result"
    }
   ],
   "source": [
    "df.rename(columns={'name': 'student'})"
   ]
  },
  {
   "cell_type": "markdown",
   "id": "8d9a3d8a",
   "metadata": {},
   "source": [
    "<a id='dfdrop'><h3>.drop()</h3></a>"
   ]
  },
  {
   "cell_type": "code",
   "execution_count": 292,
   "id": "49b7e3d4",
   "metadata": {},
   "outputs": [
    {
     "data": {
      "text/html": [
       "<div>\n",
       "<style scoped>\n",
       "    .dataframe tbody tr th:only-of-type {\n",
       "        vertical-align: middle;\n",
       "    }\n",
       "\n",
       "    .dataframe tbody tr th {\n",
       "        vertical-align: top;\n",
       "    }\n",
       "\n",
       "    .dataframe thead th {\n",
       "        text-align: right;\n",
       "    }\n",
       "</style>\n",
       "<table border=\"1\" class=\"dataframe\">\n",
       "  <thead>\n",
       "    <tr style=\"text-align: right;\">\n",
       "      <th></th>\n",
       "      <th>name</th>\n",
       "      <th>math</th>\n",
       "    </tr>\n",
       "  </thead>\n",
       "  <tbody>\n",
       "    <tr>\n",
       "      <th>0</th>\n",
       "      <td>Sally</td>\n",
       "      <td>62</td>\n",
       "    </tr>\n",
       "    <tr>\n",
       "      <th>1</th>\n",
       "      <td>Jane</td>\n",
       "      <td>88</td>\n",
       "    </tr>\n",
       "    <tr>\n",
       "      <th>2</th>\n",
       "      <td>Suzie</td>\n",
       "      <td>94</td>\n",
       "    </tr>\n",
       "    <tr>\n",
       "      <th>3</th>\n",
       "      <td>Billy</td>\n",
       "      <td>98</td>\n",
       "    </tr>\n",
       "    <tr>\n",
       "      <th>4</th>\n",
       "      <td>Ada</td>\n",
       "      <td>77</td>\n",
       "    </tr>\n",
       "    <tr>\n",
       "      <th>5</th>\n",
       "      <td>John</td>\n",
       "      <td>79</td>\n",
       "    </tr>\n",
       "    <tr>\n",
       "      <th>6</th>\n",
       "      <td>Thomas</td>\n",
       "      <td>82</td>\n",
       "    </tr>\n",
       "    <tr>\n",
       "      <th>7</th>\n",
       "      <td>Marie</td>\n",
       "      <td>93</td>\n",
       "    </tr>\n",
       "    <tr>\n",
       "      <th>8</th>\n",
       "      <td>Albert</td>\n",
       "      <td>92</td>\n",
       "    </tr>\n",
       "    <tr>\n",
       "      <th>9</th>\n",
       "      <td>Richard</td>\n",
       "      <td>69</td>\n",
       "    </tr>\n",
       "    <tr>\n",
       "      <th>10</th>\n",
       "      <td>Isaac</td>\n",
       "      <td>92</td>\n",
       "    </tr>\n",
       "    <tr>\n",
       "      <th>11</th>\n",
       "      <td>Alan</td>\n",
       "      <td>92</td>\n",
       "    </tr>\n",
       "  </tbody>\n",
       "</table>\n",
       "</div>"
      ],
      "text/plain": [
       "       name  math\n",
       "0     Sally    62\n",
       "1      Jane    88\n",
       "2     Suzie    94\n",
       "3     Billy    98\n",
       "4       Ada    77\n",
       "5      John    79\n",
       "6    Thomas    82\n",
       "7     Marie    93\n",
       "8    Albert    92\n",
       "9   Richard    69\n",
       "10    Isaac    92\n",
       "11     Alan    92"
      ]
     },
     "execution_count": 292,
     "metadata": {},
     "output_type": "execute_result"
    }
   ],
   "source": [
    "df.drop(columns=['english', 'reading'])"
   ]
  },
  {
   "cell_type": "code",
   "execution_count": 289,
   "id": "493b8d3f",
   "metadata": {},
   "outputs": [
    {
     "data": {
      "text/html": [
       "<div>\n",
       "<style scoped>\n",
       "    .dataframe tbody tr th:only-of-type {\n",
       "        vertical-align: middle;\n",
       "    }\n",
       "\n",
       "    .dataframe tbody tr th {\n",
       "        vertical-align: top;\n",
       "    }\n",
       "\n",
       "    .dataframe thead th {\n",
       "        text-align: right;\n",
       "    }\n",
       "</style>\n",
       "<table border=\"1\" class=\"dataframe\">\n",
       "  <thead>\n",
       "    <tr style=\"text-align: right;\">\n",
       "      <th></th>\n",
       "      <th>student</th>\n",
       "      <th>math</th>\n",
       "    </tr>\n",
       "  </thead>\n",
       "  <tbody>\n",
       "    <tr>\n",
       "      <th>0</th>\n",
       "      <td>Sally</td>\n",
       "      <td>62</td>\n",
       "    </tr>\n",
       "    <tr>\n",
       "      <th>1</th>\n",
       "      <td>Jane</td>\n",
       "      <td>88</td>\n",
       "    </tr>\n",
       "    <tr>\n",
       "      <th>2</th>\n",
       "      <td>Suzie</td>\n",
       "      <td>94</td>\n",
       "    </tr>\n",
       "    <tr>\n",
       "      <th>3</th>\n",
       "      <td>Billy</td>\n",
       "      <td>98</td>\n",
       "    </tr>\n",
       "    <tr>\n",
       "      <th>4</th>\n",
       "      <td>Ada</td>\n",
       "      <td>77</td>\n",
       "    </tr>\n",
       "    <tr>\n",
       "      <th>5</th>\n",
       "      <td>John</td>\n",
       "      <td>79</td>\n",
       "    </tr>\n",
       "    <tr>\n",
       "      <th>6</th>\n",
       "      <td>Thomas</td>\n",
       "      <td>82</td>\n",
       "    </tr>\n",
       "    <tr>\n",
       "      <th>7</th>\n",
       "      <td>Marie</td>\n",
       "      <td>93</td>\n",
       "    </tr>\n",
       "    <tr>\n",
       "      <th>8</th>\n",
       "      <td>Albert</td>\n",
       "      <td>92</td>\n",
       "    </tr>\n",
       "    <tr>\n",
       "      <th>9</th>\n",
       "      <td>Richard</td>\n",
       "      <td>69</td>\n",
       "    </tr>\n",
       "    <tr>\n",
       "      <th>10</th>\n",
       "      <td>Isaac</td>\n",
       "      <td>92</td>\n",
       "    </tr>\n",
       "    <tr>\n",
       "      <th>11</th>\n",
       "      <td>Alan</td>\n",
       "      <td>92</td>\n",
       "    </tr>\n",
       "  </tbody>\n",
       "</table>\n",
       "</div>"
      ],
      "text/plain": [
       "    student  math\n",
       "0     Sally    62\n",
       "1      Jane    88\n",
       "2     Suzie    94\n",
       "3     Billy    98\n",
       "4       Ada    77\n",
       "5      John    79\n",
       "6    Thomas    82\n",
       "7     Marie    93\n",
       "8    Albert    92\n",
       "9   Richard    69\n",
       "10    Isaac    92\n",
       "11     Alan    92"
      ]
     },
     "execution_count": 289,
     "metadata": {},
     "output_type": "execute_result"
    }
   ],
   "source": [
    "df.drop(columns=['english', 'reading']).rename(columns={'name': 'student'})"
   ]
  },
  {
   "cell_type": "markdown",
   "id": "4951b6d5",
   "metadata": {},
   "source": [
    "<a id='dfsort'><h3>.sort_values()</h3></a>"
   ]
  },
  {
   "cell_type": "code",
   "execution_count": 315,
   "id": "3837bde1",
   "metadata": {},
   "outputs": [
    {
     "data": {
      "text/html": [
       "<div>\n",
       "<style scoped>\n",
       "    .dataframe tbody tr th:only-of-type {\n",
       "        vertical-align: middle;\n",
       "    }\n",
       "\n",
       "    .dataframe tbody tr th {\n",
       "        vertical-align: top;\n",
       "    }\n",
       "\n",
       "    .dataframe thead th {\n",
       "        text-align: right;\n",
       "    }\n",
       "</style>\n",
       "<table border=\"1\" class=\"dataframe\">\n",
       "  <thead>\n",
       "    <tr style=\"text-align: right;\">\n",
       "      <th></th>\n",
       "      <th>name</th>\n",
       "      <th>math</th>\n",
       "      <th>english</th>\n",
       "      <th>reading</th>\n",
       "      <th>passing_math</th>\n",
       "    </tr>\n",
       "  </thead>\n",
       "  <tbody>\n",
       "    <tr>\n",
       "      <th>8</th>\n",
       "      <td>Albert</td>\n",
       "      <td>92</td>\n",
       "      <td>62</td>\n",
       "      <td>87</td>\n",
       "      <td>True</td>\n",
       "    </tr>\n",
       "    <tr>\n",
       "      <th>11</th>\n",
       "      <td>Alan</td>\n",
       "      <td>92</td>\n",
       "      <td>62</td>\n",
       "      <td>72</td>\n",
       "      <td>True</td>\n",
       "    </tr>\n",
       "    <tr>\n",
       "      <th>7</th>\n",
       "      <td>Marie</td>\n",
       "      <td>93</td>\n",
       "      <td>63</td>\n",
       "      <td>90</td>\n",
       "      <td>True</td>\n",
       "    </tr>\n",
       "    <tr>\n",
       "      <th>6</th>\n",
       "      <td>Thomas</td>\n",
       "      <td>82</td>\n",
       "      <td>64</td>\n",
       "      <td>81</td>\n",
       "      <td>True</td>\n",
       "    </tr>\n",
       "    <tr>\n",
       "      <th>2</th>\n",
       "      <td>Suzie</td>\n",
       "      <td>94</td>\n",
       "      <td>74</td>\n",
       "      <td>95</td>\n",
       "      <td>True</td>\n",
       "    </tr>\n",
       "  </tbody>\n",
       "</table>\n",
       "</div>"
      ],
      "text/plain": [
       "      name  math  english  reading  passing_math\n",
       "8   Albert    92       62       87          True\n",
       "11    Alan    92       62       72          True\n",
       "7    Marie    93       63       90          True\n",
       "6   Thomas    82       64       81          True\n",
       "2    Suzie    94       74       95          True"
      ]
     },
     "execution_count": 315,
     "metadata": {},
     "output_type": "execute_result"
    }
   ],
   "source": [
    "df.sort_values(by='english').head() #notice the by= you can sort by two values"
   ]
  },
  {
   "cell_type": "code",
   "execution_count": 316,
   "id": "70242fd7",
   "metadata": {},
   "outputs": [
    {
     "data": {
      "text/html": [
       "<div>\n",
       "<style scoped>\n",
       "    .dataframe tbody tr th:only-of-type {\n",
       "        vertical-align: middle;\n",
       "    }\n",
       "\n",
       "    .dataframe tbody tr th {\n",
       "        vertical-align: top;\n",
       "    }\n",
       "\n",
       "    .dataframe thead th {\n",
       "        text-align: right;\n",
       "    }\n",
       "</style>\n",
       "<table border=\"1\" class=\"dataframe\">\n",
       "  <thead>\n",
       "    <tr style=\"text-align: right;\">\n",
       "      <th></th>\n",
       "      <th>name</th>\n",
       "      <th>math</th>\n",
       "      <th>english</th>\n",
       "      <th>reading</th>\n",
       "      <th>passing_math</th>\n",
       "    </tr>\n",
       "  </thead>\n",
       "  <tbody>\n",
       "    <tr>\n",
       "      <th>11</th>\n",
       "      <td>Alan</td>\n",
       "      <td>92</td>\n",
       "      <td>62</td>\n",
       "      <td>72</td>\n",
       "      <td>True</td>\n",
       "    </tr>\n",
       "    <tr>\n",
       "      <th>8</th>\n",
       "      <td>Albert</td>\n",
       "      <td>92</td>\n",
       "      <td>62</td>\n",
       "      <td>87</td>\n",
       "      <td>True</td>\n",
       "    </tr>\n",
       "    <tr>\n",
       "      <th>7</th>\n",
       "      <td>Marie</td>\n",
       "      <td>93</td>\n",
       "      <td>63</td>\n",
       "      <td>90</td>\n",
       "      <td>True</td>\n",
       "    </tr>\n",
       "    <tr>\n",
       "      <th>6</th>\n",
       "      <td>Thomas</td>\n",
       "      <td>82</td>\n",
       "      <td>64</td>\n",
       "      <td>81</td>\n",
       "      <td>True</td>\n",
       "    </tr>\n",
       "    <tr>\n",
       "      <th>2</th>\n",
       "      <td>Suzie</td>\n",
       "      <td>94</td>\n",
       "      <td>74</td>\n",
       "      <td>95</td>\n",
       "      <td>True</td>\n",
       "    </tr>\n",
       "  </tbody>\n",
       "</table>\n",
       "</div>"
      ],
      "text/plain": [
       "      name  math  english  reading  passing_math\n",
       "11    Alan    92       62       72          True\n",
       "8   Albert    92       62       87          True\n",
       "7    Marie    93       63       90          True\n",
       "6   Thomas    82       64       81          True\n",
       "2    Suzie    94       74       95          True"
      ]
     },
     "execution_count": 316,
     "metadata": {},
     "output_type": "execute_result"
    }
   ],
   "source": [
    "df.sort_values(by=['english', 'reading']).head() #sort by two vaules"
   ]
  },
  {
   "cell_type": "markdown",
   "id": "359d2833",
   "metadata": {},
   "source": [
    "<a id='newcol'><center><h1>Create New Columns</h1></center></a>"
   ]
  },
  {
   "cell_type": "code",
   "execution_count": 299,
   "id": "de388022",
   "metadata": {},
   "outputs": [],
   "source": [
    "df['passing_math'] = df.math > 70"
   ]
  },
  {
   "cell_type": "code",
   "execution_count": 303,
   "id": "783a9807",
   "metadata": {},
   "outputs": [
    {
     "data": {
      "text/html": [
       "<div>\n",
       "<style scoped>\n",
       "    .dataframe tbody tr th:only-of-type {\n",
       "        vertical-align: middle;\n",
       "    }\n",
       "\n",
       "    .dataframe tbody tr th {\n",
       "        vertical-align: top;\n",
       "    }\n",
       "\n",
       "    .dataframe thead th {\n",
       "        text-align: right;\n",
       "    }\n",
       "</style>\n",
       "<table border=\"1\" class=\"dataframe\">\n",
       "  <thead>\n",
       "    <tr style=\"text-align: right;\">\n",
       "      <th></th>\n",
       "      <th>name</th>\n",
       "      <th>math</th>\n",
       "      <th>english</th>\n",
       "      <th>reading</th>\n",
       "      <th>passing_math</th>\n",
       "    </tr>\n",
       "  </thead>\n",
       "  <tbody>\n",
       "    <tr>\n",
       "      <th>0</th>\n",
       "      <td>Sally</td>\n",
       "      <td>62</td>\n",
       "      <td>85</td>\n",
       "      <td>80</td>\n",
       "      <td>False</td>\n",
       "    </tr>\n",
       "    <tr>\n",
       "      <th>1</th>\n",
       "      <td>Jane</td>\n",
       "      <td>88</td>\n",
       "      <td>79</td>\n",
       "      <td>67</td>\n",
       "      <td>True</td>\n",
       "    </tr>\n",
       "    <tr>\n",
       "      <th>2</th>\n",
       "      <td>Suzie</td>\n",
       "      <td>94</td>\n",
       "      <td>74</td>\n",
       "      <td>95</td>\n",
       "      <td>True</td>\n",
       "    </tr>\n",
       "    <tr>\n",
       "      <th>3</th>\n",
       "      <td>Billy</td>\n",
       "      <td>98</td>\n",
       "      <td>96</td>\n",
       "      <td>88</td>\n",
       "      <td>True</td>\n",
       "    </tr>\n",
       "    <tr>\n",
       "      <th>4</th>\n",
       "      <td>Ada</td>\n",
       "      <td>77</td>\n",
       "      <td>92</td>\n",
       "      <td>98</td>\n",
       "      <td>True</td>\n",
       "    </tr>\n",
       "  </tbody>\n",
       "</table>\n",
       "</div>"
      ],
      "text/plain": [
       "    name  math  english  reading  passing_math\n",
       "0  Sally    62       85       80         False\n",
       "1   Jane    88       79       67          True\n",
       "2  Suzie    94       74       95          True\n",
       "3  Billy    98       96       88          True\n",
       "4    Ada    77       92       98          True"
      ]
     },
     "execution_count": 303,
     "metadata": {},
     "output_type": "execute_result"
    }
   ],
   "source": [
    "df.head()"
   ]
  },
  {
   "cell_type": "markdown",
   "id": "6708e438",
   "metadata": {},
   "source": [
    "<a id='assign'><h3>.assign()</h3></a>"
   ]
  },
  {
   "cell_type": "code",
   "execution_count": 306,
   "id": "431036ae",
   "metadata": {},
   "outputs": [
    {
     "data": {
      "text/html": [
       "<div>\n",
       "<style scoped>\n",
       "    .dataframe tbody tr th:only-of-type {\n",
       "        vertical-align: middle;\n",
       "    }\n",
       "\n",
       "    .dataframe tbody tr th {\n",
       "        vertical-align: top;\n",
       "    }\n",
       "\n",
       "    .dataframe thead th {\n",
       "        text-align: right;\n",
       "    }\n",
       "</style>\n",
       "<table border=\"1\" class=\"dataframe\">\n",
       "  <thead>\n",
       "    <tr style=\"text-align: right;\">\n",
       "      <th></th>\n",
       "      <th>name</th>\n",
       "      <th>math</th>\n",
       "      <th>english</th>\n",
       "      <th>reading</th>\n",
       "      <th>passing_math</th>\n",
       "      <th>passing_english</th>\n",
       "    </tr>\n",
       "  </thead>\n",
       "  <tbody>\n",
       "    <tr>\n",
       "      <th>0</th>\n",
       "      <td>Sally</td>\n",
       "      <td>62</td>\n",
       "      <td>85</td>\n",
       "      <td>80</td>\n",
       "      <td>False</td>\n",
       "      <td>True</td>\n",
       "    </tr>\n",
       "    <tr>\n",
       "      <th>1</th>\n",
       "      <td>Jane</td>\n",
       "      <td>88</td>\n",
       "      <td>79</td>\n",
       "      <td>67</td>\n",
       "      <td>True</td>\n",
       "      <td>True</td>\n",
       "    </tr>\n",
       "    <tr>\n",
       "      <th>2</th>\n",
       "      <td>Suzie</td>\n",
       "      <td>94</td>\n",
       "      <td>74</td>\n",
       "      <td>95</td>\n",
       "      <td>True</td>\n",
       "      <td>True</td>\n",
       "    </tr>\n",
       "    <tr>\n",
       "      <th>3</th>\n",
       "      <td>Billy</td>\n",
       "      <td>98</td>\n",
       "      <td>96</td>\n",
       "      <td>88</td>\n",
       "      <td>True</td>\n",
       "      <td>True</td>\n",
       "    </tr>\n",
       "    <tr>\n",
       "      <th>4</th>\n",
       "      <td>Ada</td>\n",
       "      <td>77</td>\n",
       "      <td>92</td>\n",
       "      <td>98</td>\n",
       "      <td>True</td>\n",
       "      <td>True</td>\n",
       "    </tr>\n",
       "  </tbody>\n",
       "</table>\n",
       "</div>"
      ],
      "text/plain": [
       "    name  math  english  reading  passing_math  passing_english\n",
       "0  Sally    62       85       80         False             True\n",
       "1   Jane    88       79       67          True             True\n",
       "2  Suzie    94       74       95          True             True\n",
       "3  Billy    98       96       88          True             True\n",
       "4    Ada    77       92       98          True             True"
      ]
     },
     "execution_count": 306,
     "metadata": {},
     "output_type": "execute_result"
    }
   ],
   "source": [
    "df.assign(passing_english=df.english >= 70).head()"
   ]
  },
  {
   "cell_type": "markdown",
   "id": "43f97522",
   "metadata": {},
   "source": [
    "<a id='amc'><center><h1>Accessing Multiple Columns</h1></center></a>"
   ]
  },
  {
   "cell_type": "code",
   "execution_count": 311,
   "id": "eaeb8674",
   "metadata": {},
   "outputs": [
    {
     "data": {
      "text/html": [
       "<div>\n",
       "<style scoped>\n",
       "    .dataframe tbody tr th:only-of-type {\n",
       "        vertical-align: middle;\n",
       "    }\n",
       "\n",
       "    .dataframe tbody tr th {\n",
       "        vertical-align: top;\n",
       "    }\n",
       "\n",
       "    .dataframe thead th {\n",
       "        text-align: right;\n",
       "    }\n",
       "</style>\n",
       "<table border=\"1\" class=\"dataframe\">\n",
       "  <thead>\n",
       "    <tr style=\"text-align: right;\">\n",
       "      <th></th>\n",
       "      <th>name</th>\n",
       "      <th>math</th>\n",
       "    </tr>\n",
       "  </thead>\n",
       "  <tbody>\n",
       "    <tr>\n",
       "      <th>0</th>\n",
       "      <td>Sally</td>\n",
       "      <td>62</td>\n",
       "    </tr>\n",
       "    <tr>\n",
       "      <th>1</th>\n",
       "      <td>Jane</td>\n",
       "      <td>88</td>\n",
       "    </tr>\n",
       "    <tr>\n",
       "      <th>2</th>\n",
       "      <td>Suzie</td>\n",
       "      <td>94</td>\n",
       "    </tr>\n",
       "    <tr>\n",
       "      <th>3</th>\n",
       "      <td>Billy</td>\n",
       "      <td>98</td>\n",
       "    </tr>\n",
       "    <tr>\n",
       "      <th>4</th>\n",
       "      <td>Ada</td>\n",
       "      <td>77</td>\n",
       "    </tr>\n",
       "  </tbody>\n",
       "</table>\n",
       "</div>"
      ],
      "text/plain": [
       "    name  math\n",
       "0  Sally    62\n",
       "1   Jane    88\n",
       "2  Suzie    94\n",
       "3  Billy    98\n",
       "4    Ada    77"
      ]
     },
     "execution_count": 311,
     "metadata": {},
     "output_type": "execute_result"
    }
   ],
   "source": [
    "df[['name', 'math']].head()#can call the columns this way"
   ]
  },
  {
   "cell_type": "code",
   "execution_count": 314,
   "id": "b77cb7e5",
   "metadata": {},
   "outputs": [
    {
     "data": {
      "text/html": [
       "<div>\n",
       "<style scoped>\n",
       "    .dataframe tbody tr th:only-of-type {\n",
       "        vertical-align: middle;\n",
       "    }\n",
       "\n",
       "    .dataframe tbody tr th {\n",
       "        vertical-align: top;\n",
       "    }\n",
       "\n",
       "    .dataframe thead th {\n",
       "        text-align: right;\n",
       "    }\n",
       "</style>\n",
       "<table border=\"1\" class=\"dataframe\">\n",
       "  <thead>\n",
       "    <tr style=\"text-align: right;\">\n",
       "      <th></th>\n",
       "      <th>name</th>\n",
       "      <th>math</th>\n",
       "    </tr>\n",
       "  </thead>\n",
       "  <tbody>\n",
       "    <tr>\n",
       "      <th>0</th>\n",
       "      <td>Sally</td>\n",
       "      <td>62</td>\n",
       "    </tr>\n",
       "    <tr>\n",
       "      <th>1</th>\n",
       "      <td>Jane</td>\n",
       "      <td>88</td>\n",
       "    </tr>\n",
       "    <tr>\n",
       "      <th>2</th>\n",
       "      <td>Suzie</td>\n",
       "      <td>94</td>\n",
       "    </tr>\n",
       "    <tr>\n",
       "      <th>3</th>\n",
       "      <td>Billy</td>\n",
       "      <td>98</td>\n",
       "    </tr>\n",
       "    <tr>\n",
       "      <th>4</th>\n",
       "      <td>Ada</td>\n",
       "      <td>77</td>\n",
       "    </tr>\n",
       "  </tbody>\n",
       "</table>\n",
       "</div>"
      ],
      "text/plain": [
       "    name  math\n",
       "0  Sally    62\n",
       "1   Jane    88\n",
       "2  Suzie    94\n",
       "3  Billy    98\n",
       "4    Ada    77"
      ]
     },
     "execution_count": 314,
     "metadata": {},
     "output_type": "execute_result"
    }
   ],
   "source": [
    "columns = ['name', 'math'] # or can call them this way\n",
    "df[columns].head()"
   ]
  },
  {
   "cell_type": "code",
   "execution_count": 312,
   "id": "a7d3f82f",
   "metadata": {},
   "outputs": [
    {
     "data": {
      "text/html": [
       "<div>\n",
       "<style scoped>\n",
       "    .dataframe tbody tr th:only-of-type {\n",
       "        vertical-align: middle;\n",
       "    }\n",
       "\n",
       "    .dataframe tbody tr th {\n",
       "        vertical-align: top;\n",
       "    }\n",
       "\n",
       "    .dataframe thead th {\n",
       "        text-align: right;\n",
       "    }\n",
       "</style>\n",
       "<table border=\"1\" class=\"dataframe\">\n",
       "  <thead>\n",
       "    <tr style=\"text-align: right;\">\n",
       "      <th></th>\n",
       "      <th>name</th>\n",
       "      <th>math</th>\n",
       "    </tr>\n",
       "  </thead>\n",
       "  <tbody>\n",
       "    <tr>\n",
       "      <th>3</th>\n",
       "      <td>Billy</td>\n",
       "      <td>98</td>\n",
       "    </tr>\n",
       "    <tr>\n",
       "      <th>2</th>\n",
       "      <td>Suzie</td>\n",
       "      <td>94</td>\n",
       "    </tr>\n",
       "    <tr>\n",
       "      <th>7</th>\n",
       "      <td>Marie</td>\n",
       "      <td>93</td>\n",
       "    </tr>\n",
       "    <tr>\n",
       "      <th>8</th>\n",
       "      <td>Albert</td>\n",
       "      <td>92</td>\n",
       "    </tr>\n",
       "    <tr>\n",
       "      <th>10</th>\n",
       "      <td>Isaac</td>\n",
       "      <td>92</td>\n",
       "    </tr>\n",
       "  </tbody>\n",
       "</table>\n",
       "</div>"
      ],
      "text/plain": [
       "      name  math\n",
       "3    Billy    98\n",
       "2    Suzie    94\n",
       "7    Marie    93\n",
       "8   Albert    92\n",
       "10   Isaac    92"
      ]
     },
     "execution_count": 312,
     "metadata": {},
     "output_type": "execute_result"
    }
   ],
   "source": [
    "df[['name', 'math']].sort_values(by='math', ascending=False).head()"
   ]
  },
  {
   "cell_type": "markdown",
   "id": "e658f80c",
   "metadata": {},
   "source": [
    "<a id='agg'><center><h1>Aggregating</h1></center></a>"
   ]
  },
  {
   "cell_type": "code",
   "execution_count": 317,
   "id": "2fc29275",
   "metadata": {},
   "outputs": [
    {
     "data": {
      "text/plain": [
       "67"
      ]
     },
     "execution_count": 317,
     "metadata": {},
     "output_type": "execute_result"
    }
   ],
   "source": [
    "df.reading.agg('min')"
   ]
  },
  {
   "cell_type": "code",
   "execution_count": 319,
   "id": "54fe2486",
   "metadata": {},
   "outputs": [
    {
     "data": {
      "text/html": [
       "<div>\n",
       "<style scoped>\n",
       "    .dataframe tbody tr th:only-of-type {\n",
       "        vertical-align: middle;\n",
       "    }\n",
       "\n",
       "    .dataframe tbody tr th {\n",
       "        vertical-align: top;\n",
       "    }\n",
       "\n",
       "    .dataframe thead th {\n",
       "        text-align: right;\n",
       "    }\n",
       "</style>\n",
       "<table border=\"1\" class=\"dataframe\">\n",
       "  <thead>\n",
       "    <tr style=\"text-align: right;\">\n",
       "      <th></th>\n",
       "      <th>english</th>\n",
       "      <th>reading</th>\n",
       "      <th>math</th>\n",
       "    </tr>\n",
       "  </thead>\n",
       "  <tbody>\n",
       "    <tr>\n",
       "      <th>mean</th>\n",
       "      <td>77.666667</td>\n",
       "      <td>86.5</td>\n",
       "      <td>84.833333</td>\n",
       "    </tr>\n",
       "    <tr>\n",
       "      <th>min</th>\n",
       "      <td>62.000000</td>\n",
       "      <td>67.0</td>\n",
       "      <td>62.000000</td>\n",
       "    </tr>\n",
       "    <tr>\n",
       "      <th>max</th>\n",
       "      <td>99.000000</td>\n",
       "      <td>98.0</td>\n",
       "      <td>98.000000</td>\n",
       "    </tr>\n",
       "  </tbody>\n",
       "</table>\n",
       "</div>"
      ],
      "text/plain": [
       "        english  reading       math\n",
       "mean  77.666667     86.5  84.833333\n",
       "min   62.000000     67.0  62.000000\n",
       "max   99.000000     98.0  98.000000"
      ]
     },
     "execution_count": 319,
     "metadata": {},
     "output_type": "execute_result"
    }
   ],
   "source": [
    "df[['english', 'reading', 'math']].agg(['mean', 'min', 'max'])"
   ]
  },
  {
   "cell_type": "markdown",
   "id": "4fe67b4f",
   "metadata": {},
   "source": [
    "<a id='groupby'><center><h1>Group By</h1></center></a>"
   ]
  },
  {
   "cell_type": "code",
   "execution_count": 324,
   "id": "fd61a6e1",
   "metadata": {},
   "outputs": [
    {
     "data": {
      "text/html": [
       "<div>\n",
       "<style scoped>\n",
       "    .dataframe tbody tr th:only-of-type {\n",
       "        vertical-align: middle;\n",
       "    }\n",
       "\n",
       "    .dataframe tbody tr th {\n",
       "        vertical-align: top;\n",
       "    }\n",
       "\n",
       "    .dataframe thead th {\n",
       "        text-align: right;\n",
       "    }\n",
       "</style>\n",
       "<table border=\"1\" class=\"dataframe\">\n",
       "  <thead>\n",
       "    <tr style=\"text-align: right;\">\n",
       "      <th></th>\n",
       "      <th>min</th>\n",
       "      <th>mean</th>\n",
       "      <th>max</th>\n",
       "    </tr>\n",
       "    <tr>\n",
       "      <th>passing_math</th>\n",
       "      <th></th>\n",
       "      <th></th>\n",
       "      <th></th>\n",
       "    </tr>\n",
       "  </thead>\n",
       "  <tbody>\n",
       "    <tr>\n",
       "      <th>False</th>\n",
       "      <td>62</td>\n",
       "      <td>65.5</td>\n",
       "      <td>69</td>\n",
       "    </tr>\n",
       "    <tr>\n",
       "      <th>True</th>\n",
       "      <td>77</td>\n",
       "      <td>88.7</td>\n",
       "      <td>98</td>\n",
       "    </tr>\n",
       "  </tbody>\n",
       "</table>\n",
       "</div>"
      ],
      "text/plain": [
       "              min  mean  max\n",
       "passing_math                \n",
       "False          62  65.5   69\n",
       "True           77  88.7   98"
      ]
     },
     "execution_count": 324,
     "metadata": {},
     "output_type": "execute_result"
    }
   ],
   "source": [
    "df.groupby(\"passing_math\").math.agg(['min', 'mean', 'max']) #group by must have .agg function"
   ]
  },
  {
   "cell_type": "code",
   "execution_count": 325,
   "id": "21713f22",
   "metadata": {},
   "outputs": [
    {
     "data": {
      "text/html": [
       "<div>\n",
       "<style scoped>\n",
       "    .dataframe tbody tr th:only-of-type {\n",
       "        vertical-align: middle;\n",
       "    }\n",
       "\n",
       "    .dataframe tbody tr th {\n",
       "        vertical-align: top;\n",
       "    }\n",
       "\n",
       "    .dataframe thead th {\n",
       "        text-align: right;\n",
       "    }\n",
       "</style>\n",
       "<table border=\"1\" class=\"dataframe\">\n",
       "  <thead>\n",
       "    <tr style=\"text-align: right;\">\n",
       "      <th></th>\n",
       "      <th>min</th>\n",
       "      <th>mean</th>\n",
       "      <th>max</th>\n",
       "    </tr>\n",
       "    <tr>\n",
       "      <th>passing_math</th>\n",
       "      <th></th>\n",
       "      <th></th>\n",
       "      <th></th>\n",
       "    </tr>\n",
       "  </thead>\n",
       "  <tbody>\n",
       "    <tr>\n",
       "      <th>False</th>\n",
       "      <td>80</td>\n",
       "      <td>82.5</td>\n",
       "      <td>85</td>\n",
       "    </tr>\n",
       "    <tr>\n",
       "      <th>True</th>\n",
       "      <td>62</td>\n",
       "      <td>76.7</td>\n",
       "      <td>99</td>\n",
       "    </tr>\n",
       "  </tbody>\n",
       "</table>\n",
       "</div>"
      ],
      "text/plain": [
       "              min  mean  max\n",
       "passing_math                \n",
       "False          80  82.5   85\n",
       "True           62  76.7   99"
      ]
     },
     "execution_count": 325,
     "metadata": {},
     "output_type": "execute_result"
    }
   ],
   "source": [
    "df.groupby(\"passing_math\").english.agg(['min', 'mean', 'max']) #group by must have .agg function"
   ]
  },
  {
   "cell_type": "code",
   "execution_count": 333,
   "id": "bd076cdb",
   "metadata": {},
   "outputs": [
    {
     "name": "stdout",
     "output_type": "stream",
     "text": [
      "\u001b[H\u001b[2J"
     ]
    }
   ],
   "source": []
  },
  {
   "cell_type": "code",
   "execution_count": null,
   "id": "8e7a2c50",
   "metadata": {},
   "outputs": [],
   "source": [
    "#Groupby & Where example problem from Exercise\n",
    "#mam[['hoppers', 'speed']].where((mam['speed']>(mam['speed']).median()) & (mam['hoppers']==True)).sort_values(by=['speed'], ascending=False).dropna().count())"
   ]
  },
  {
   "cell_type": "markdown",
   "id": "1b37ddc5",
   "metadata": {},
   "source": [
    "<a id='where'><center><h1>np.where</h1></center></a>"
   ]
  },
  {
   "cell_type": "code",
   "execution_count": 331,
   "id": "29a3c456",
   "metadata": {},
   "outputs": [],
   "source": [
    "df['passing_math'] = np.where(df.math < 70, 'failing', 'passing')# Create the new column based on an existing column"
   ]
  },
  {
   "cell_type": "code",
   "execution_count": 330,
   "id": "e6cdcd5c",
   "metadata": {},
   "outputs": [
    {
     "data": {
      "text/html": [
       "<div>\n",
       "<style scoped>\n",
       "    .dataframe tbody tr th:only-of-type {\n",
       "        vertical-align: middle;\n",
       "    }\n",
       "\n",
       "    .dataframe tbody tr th {\n",
       "        vertical-align: top;\n",
       "    }\n",
       "\n",
       "    .dataframe thead th {\n",
       "        text-align: right;\n",
       "    }\n",
       "</style>\n",
       "<table border=\"1\" class=\"dataframe\">\n",
       "  <thead>\n",
       "    <tr style=\"text-align: right;\">\n",
       "      <th></th>\n",
       "      <th>name</th>\n",
       "      <th>math</th>\n",
       "      <th>english</th>\n",
       "      <th>reading</th>\n",
       "      <th>passing_math</th>\n",
       "    </tr>\n",
       "  </thead>\n",
       "  <tbody>\n",
       "    <tr>\n",
       "      <th>0</th>\n",
       "      <td>Sally</td>\n",
       "      <td>62</td>\n",
       "      <td>85</td>\n",
       "      <td>80</td>\n",
       "      <td>failing</td>\n",
       "    </tr>\n",
       "    <tr>\n",
       "      <th>1</th>\n",
       "      <td>Jane</td>\n",
       "      <td>88</td>\n",
       "      <td>79</td>\n",
       "      <td>67</td>\n",
       "      <td>passing</td>\n",
       "    </tr>\n",
       "    <tr>\n",
       "      <th>2</th>\n",
       "      <td>Suzie</td>\n",
       "      <td>94</td>\n",
       "      <td>74</td>\n",
       "      <td>95</td>\n",
       "      <td>passing</td>\n",
       "    </tr>\n",
       "    <tr>\n",
       "      <th>3</th>\n",
       "      <td>Billy</td>\n",
       "      <td>98</td>\n",
       "      <td>96</td>\n",
       "      <td>88</td>\n",
       "      <td>passing</td>\n",
       "    </tr>\n",
       "    <tr>\n",
       "      <th>4</th>\n",
       "      <td>Ada</td>\n",
       "      <td>77</td>\n",
       "      <td>92</td>\n",
       "      <td>98</td>\n",
       "      <td>passing</td>\n",
       "    </tr>\n",
       "  </tbody>\n",
       "</table>\n",
       "</div>"
      ],
      "text/plain": [
       "    name  math  english  reading passing_math\n",
       "0  Sally    62       85       80      failing\n",
       "1   Jane    88       79       67      passing\n",
       "2  Suzie    94       74       95      passing\n",
       "3  Billy    98       96       88      passing\n",
       "4    Ada    77       92       98      passing"
      ]
     },
     "execution_count": 330,
     "metadata": {},
     "output_type": "execute_result"
    }
   ],
   "source": [
    "df.head()"
   ]
  },
  {
   "cell_type": "code",
   "execution_count": null,
   "id": "ea8d673f",
   "metadata": {},
   "outputs": [],
   "source": [
    "#Groupby & Where example problem from Exercise\n",
    "#mam[['hoppers', 'speed']].where((mam['speed']>(mam['speed']).median()) & (mam['hoppers']==True)).sort_values(by=['speed'], ascending=False).dropna().count())"
   ]
  }
 ],
 "metadata": {
  "kernelspec": {
   "display_name": "Python 3",
   "language": "python",
   "name": "python3"
  },
  "language_info": {
   "codemirror_mode": {
    "name": "ipython",
    "version": 3
   },
   "file_extension": ".py",
   "mimetype": "text/x-python",
   "name": "python",
   "nbconvert_exporter": "python",
   "pygments_lexer": "ipython3",
   "version": "3.8.8"
  }
 },
 "nbformat": 4,
 "nbformat_minor": 5
}
